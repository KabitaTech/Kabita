{
 "cells": [
  {
   "cell_type": "markdown",
   "id": "dce103bc",
   "metadata": {},
   "source": [
    "# 1. Write a Python program to sum all the items in a list"
   ]
  },
  {
   "cell_type": "code",
   "execution_count": 6,
   "id": "64a8a988",
   "metadata": {
    "scrolled": true
   },
   "outputs": [
    {
     "name": "stdout",
     "output_type": "stream",
     "text": [
      "[10, 9, 7, 5]\n",
      "sum of list:  31\n"
     ]
    }
   ],
   "source": [
    "# sum of elements\n",
    "\n",
    "def sumlist(list):\n",
    "    sum=0\n",
    "    for i in range(len(list)):\n",
    "        sum = sum+list[i]\n",
    "    return sum\n",
    "\n",
    "#initialise list\n",
    "list = [10, 9, 7, 5]\n",
    "print(list)\n",
    "print(\"sum of list: \",sumlist(list))\n"
   ]
  },
  {
   "cell_type": "markdown",
   "id": "b0f78e1f",
   "metadata": {},
   "source": [
    "# Write a Python program to multiply all the items in a list"
   ]
  },
  {
   "cell_type": "code",
   "execution_count": 39,
   "id": "606e32e1",
   "metadata": {},
   "outputs": [
    {
     "name": "stdout",
     "output_type": "stream",
     "text": [
      "504\n"
     ]
    }
   ],
   "source": [
    "def multiply_list(items):\n",
    "    tot = 1\n",
    "    for x in items:\n",
    "          tot *= x \n",
    "    return tot\n",
    "print(multiply_list([7,8,9]))"
   ]
  },
  {
   "cell_type": "markdown",
   "id": "f50718bb",
   "metadata": {},
   "source": [
    "# 3. Write a Python program to get the largest number from a list."
   ]
  },
  {
   "cell_type": "code",
   "execution_count": 8,
   "id": "55c8ed62",
   "metadata": {
    "scrolled": true
   },
   "outputs": [
    {
     "name": "stdout",
     "output_type": "stream",
     "text": [
      "55\n"
     ]
    }
   ],
   "source": [
    "def max_num_in_list( list ):\n",
    "    max = list[ 0 ]\n",
    "    for a in list:\n",
    "        if a > max:\n",
    "            max = a\n",
    "    return max\n",
    "print(max_num_in_list([8, 55, 9, .56,-1]))"
   ]
  },
  {
   "cell_type": "markdown",
   "id": "ff18c68d",
   "metadata": {},
   "source": [
    "# 4. Write a Python program to get the smallest number from a list"
   ]
  },
  {
   "cell_type": "code",
   "execution_count": 11,
   "id": "e5e1d7b6",
   "metadata": {
    "scrolled": true
   },
   "outputs": [
    {
     "name": "stdout",
     "output_type": "stream",
     "text": [
      "-1\n"
     ]
    }
   ],
   "source": [
    "\n",
    "\n",
    "def smallest_num_in_list( list ):\n",
    "    min = list[ 0 ]\n",
    "    for a in list:\n",
    "        if a < min:\n",
    "            min = a\n",
    "    return min\n",
    "print(smallest_num_in_list([8, 55, 9, .56,-1]))"
   ]
  },
  {
   "cell_type": "markdown",
   "id": "716adafb",
   "metadata": {},
   "source": [
    "# 6. Write a Python program to get a list, sorted in increasing order by the last\n",
    "element in each tuple from a given list of non-empty tuples. Go to the editor\n",
    "Sample List : [(2, 5), (1, 2), (4, 4), (2, 3), (2, 1)]\n",
    "Expected Result : [(2, 1), (1, 2), (2, 3), (4, 4), (2, 5)]\n"
   ]
  },
  {
   "cell_type": "code",
   "execution_count": 1,
   "id": "3358dafd",
   "metadata": {},
   "outputs": [
    {
     "name": "stdout",
     "output_type": "stream",
     "text": [
      "All the last value of tuples after sorting we get [1, 2, 3, 4, 5]\n",
      "value 1\n",
      "5\n",
      "2\n",
      "4\n",
      "3\n",
      "1\n",
      "[(2, 1)]\n",
      "value 2\n",
      "5\n",
      "2\n",
      "[(2, 1), (1, 2)]\n",
      "value 3\n",
      "5\n",
      "2\n",
      "4\n",
      "3\n",
      "[(2, 1), (1, 2), (2, 3)]\n",
      "value 4\n",
      "5\n",
      "2\n",
      "4\n",
      "[(2, 1), (1, 2), (2, 3), (4, 4)]\n",
      "value 5\n",
      "5\n",
      "[(2, 1), (1, 2), (2, 3), (4, 4), (2, 5)]\n"
     ]
    },
    {
     "data": {
      "text/plain": [
       "[(2, 1), (1, 2), (2, 3), (4, 4), (2, 5)]"
      ]
     },
     "execution_count": 1,
     "metadata": {},
     "output_type": "execute_result"
    }
   ],
   "source": [
    "v = [(2, 5), (1, 2), (4, 4), (2, 3), (2, 1)]\n",
    "second_index_value = []\n",
    "for tuples in v:\n",
    "#     print('Tuples are',tuples)\n",
    "#     print('last element of tuple',tuples[1])\n",
    "    second_index_value.append(tuples[1])\n",
    "\n",
    "# print('All the last value of tuples are',second_index_value)\n",
    "second_index_value.sort()\n",
    "print('All the last value of tuples after sorting we get',second_index_value)\n",
    "\n",
    "\n",
    "\n",
    "final=[]\n",
    "for value in second_index_value:\n",
    "    print('value',value)\n",
    "    for tuples in v:\n",
    "        print(tuples[1])\n",
    "        if tuples[1]==value:\n",
    "            final.append(tuples)\n",
    "            print(final)\n",
    "            break\n",
    "        \n",
    "final"
   ]
  },
  {
   "cell_type": "code",
   "execution_count": null,
   "id": "48ac4d53",
   "metadata": {},
   "outputs": [],
   "source": []
  },
  {
   "cell_type": "markdown",
   "id": "16df6414",
   "metadata": {},
   "source": [
    "# 7. Write a Python program to remove duplicates from a list"
   ]
  },
  {
   "cell_type": "code",
   "execution_count": 13,
   "id": "e7b844bf",
   "metadata": {
    "scrolled": true
   },
   "outputs": [
    {
     "name": "stdout",
     "output_type": "stream",
     "text": [
      "{40, 10, 80, 50, 20, 60, 30}\n"
     ]
    }
   ],
   "source": [
    "a = [10,20,30,20,10,50,60,40,80,50,40]\n",
    "\n",
    "dup_items = set()\n",
    "uniq_items = []\n",
    "for x in a:\n",
    "    if x not in dup_items:\n",
    "        uniq_items.append(x)\n",
    "        dup_items.add(x)\n",
    "\n",
    "print(dup_items)"
   ]
  },
  {
   "cell_type": "markdown",
   "id": "21236c30",
   "metadata": {},
   "source": [
    "# 8. Write a Python program to check a list is empty or not. Go to the editor\n",
    "Click me to see the sample solution"
   ]
  },
  {
   "cell_type": "code",
   "execution_count": 23,
   "id": "db7d2b68",
   "metadata": {
    "scrolled": true
   },
   "outputs": [
    {
     "name": "stdout",
     "output_type": "stream",
     "text": [
      "List is empty\n"
     ]
    }
   ],
   "source": [
    "l = []\n",
    "if not l:\n",
    "    print(\"List is empty\")\n",
    "else:\n",
    "    print (\"list is non empty\")"
   ]
  },
  {
   "cell_type": "code",
   "execution_count": null,
   "id": "67d27ee1",
   "metadata": {},
   "outputs": [],
   "source": []
  },
  {
   "cell_type": "code",
   "execution_count": null,
   "id": "84c971cd",
   "metadata": {},
   "outputs": [],
   "source": []
  },
  {
   "cell_type": "code",
   "execution_count": null,
   "id": "44e7de30",
   "metadata": {},
   "outputs": [],
   "source": []
  },
  {
   "cell_type": "markdown",
   "id": "72a73acc",
   "metadata": {},
   "source": [
    "# 9. Write a Python program to clone or copy of list "
   ]
  },
  {
   "cell_type": "code",
   "execution_count": 40,
   "id": "b8bdc0d0",
   "metadata": {
    "scrolled": true
   },
   "outputs": [
    {
     "name": "stdout",
     "output_type": "stream",
     "text": [
      "Original List: [4, 8, 2, 10, 15, 18]\n",
      "After Cloning: [4, 8, 2, 10, 15, 18]\n"
     ]
    }
   ],
   "source": [
    "def Cloning(li1):\n",
    "    li_copy = li1[:]\n",
    "    return li_copy\n",
    " \n",
    " \n",
    "\n",
    "li1 = [4, 8, 2, 10, 15, 18]\n",
    "li2 = Cloning(li1)\n",
    "print(\"Original List:\", li1)\n",
    "print(\"After Cloning:\", li2)"
   ]
  },
  {
   "cell_type": "markdown",
   "id": "e6bcb7ad",
   "metadata": {},
   "source": [
    "# 10. Write a Python program to find the list of words that are longer than n from a given list of words\n"
   ]
  },
  {
   "cell_type": "code",
   "execution_count": 41,
   "id": "c55e0283",
   "metadata": {
    "scrolled": true
   },
   "outputs": [
    {
     "name": "stdout",
     "output_type": "stream",
     "text": [
      "['quick', 'brown', 'jumps', 'over', 'lazy']\n"
     ]
    }
   ],
   "source": [
    "def long_words(n, str):\n",
    "    word_len = []\n",
    "    txt = str.split(\" \")\n",
    "    for x in txt:\n",
    "        if len(x) > n:\n",
    "            word_len.append(x)\n",
    "    return word_len\t\n",
    "print(long_words(3, \"The quick brown fox jumps over the lazy dog\"))\n"
   ]
  },
  {
   "cell_type": "markdown",
   "id": "bf606883",
   "metadata": {},
   "source": [
    "# 11. Write a Python function that takes two lists and returns True if they have at least one common member."
   ]
  },
  {
   "cell_type": "code",
   "execution_count": 42,
   "id": "7361188c",
   "metadata": {},
   "outputs": [
    {
     "name": "stdout",
     "output_type": "stream",
     "text": [
      "True\n",
      "None\n"
     ]
    }
   ],
   "source": [
    "def common_data(list1, list2):\n",
    "     result = False\n",
    "     for x in list1:\n",
    "         for y in list2:\n",
    "             if x == y:\n",
    "                 result = True\n",
    "                 return result\n",
    "print(common_data([1,2,3,4,5], [5,6,7,8,9]))\n",
    "print(common_data([1,2,3,4,5], [6,7,8,9]))\n"
   ]
  },
  {
   "cell_type": "markdown",
   "id": "f4a22704",
   "metadata": {},
   "source": [
    "# 12. Write a Python program to print a specified list after removing the 0th, 4th and 5th elements"
   ]
  },
  {
   "cell_type": "code",
   "execution_count": 43,
   "id": "43e6bf9a",
   "metadata": {},
   "outputs": [
    {
     "name": "stdout",
     "output_type": "stream",
     "text": [
      "['Green', 'White', 'Black']\n"
     ]
    }
   ],
   "source": [
    "color = ['Red', 'Green', 'White', 'Black', 'Pink', 'Yellow']\n",
    "color = [x for (i,x) in enumerate(color) if i not in (0,4,5)]\n",
    "print(color)\n"
   ]
  },
  {
   "cell_type": "markdown",
   "id": "87a66a09",
   "metadata": {},
   "source": [
    "# 13. Write a Python program to generate a 3*4*6 3D array whose each element is\n"
   ]
  },
  {
   "cell_type": "code",
   "execution_count": 44,
   "id": "d2ceb743",
   "metadata": {},
   "outputs": [
    {
     "name": "stdout",
     "output_type": "stream",
     "text": [
      "[[['*', '*', '*', '*', '*', '*'], ['*', '*', '*', '*', '*', '*'], ['*', '*', '*', '*', '*', '*'], ['*', '*', '*', '*', '*', '*']], [['*', '*', '*', '*', '*', '*'], ['*', '*', '*', '*', '*', '*'], ['*', '*', '*', '*', '*', '*'], ['*', '*', '*', '*', '*', '*']], [['*', '*', '*', '*', '*', '*'], ['*', '*', '*', '*', '*', '*'], ['*', '*', '*', '*', '*', '*'], ['*', '*', '*', '*', '*', '*']]]\n"
     ]
    }
   ],
   "source": [
    "array = [[ ['*' for col in range(6)] for col in range(4)] for row in range(3)]\n",
    "print(array)\n"
   ]
  },
  {
   "cell_type": "markdown",
   "id": "ca827f55",
   "metadata": {},
   "source": [
    "# 14. Write a Python program to print the numbers of a specified list after removing even numbers from it"
   ]
  },
  {
   "cell_type": "code",
   "execution_count": 46,
   "id": "5f7b1caf",
   "metadata": {},
   "outputs": [
    {
     "name": "stdout",
     "output_type": "stream",
     "text": [
      "[7, 25, 27]\n"
     ]
    }
   ],
   "source": [
    "num = [7,8, 120, 25, 44, 20, 27]\n",
    "num = [x for x in num if x%2!=0]\n",
    "print(num)\n"
   ]
  },
  {
   "cell_type": "markdown",
   "id": "0996c145",
   "metadata": {},
   "source": [
    "# 18. Write a Python program to generate all permutations of a list in Python"
   ]
  },
  {
   "cell_type": "code",
   "execution_count": 48,
   "id": "4b4bcb49",
   "metadata": {},
   "outputs": [
    {
     "name": "stdout",
     "output_type": "stream",
     "text": [
      "[(1, 2, 3, 4, 5), (1, 2, 3, 5, 4), (1, 2, 4, 3, 5), (1, 2, 4, 5, 3), (1, 2, 5, 3, 4), (1, 2, 5, 4, 3), (1, 3, 2, 4, 5), (1, 3, 2, 5, 4), (1, 3, 4, 2, 5), (1, 3, 4, 5, 2), (1, 3, 5, 2, 4), (1, 3, 5, 4, 2), (1, 4, 2, 3, 5), (1, 4, 2, 5, 3), (1, 4, 3, 2, 5), (1, 4, 3, 5, 2), (1, 4, 5, 2, 3), (1, 4, 5, 3, 2), (1, 5, 2, 3, 4), (1, 5, 2, 4, 3), (1, 5, 3, 2, 4), (1, 5, 3, 4, 2), (1, 5, 4, 2, 3), (1, 5, 4, 3, 2), (2, 1, 3, 4, 5), (2, 1, 3, 5, 4), (2, 1, 4, 3, 5), (2, 1, 4, 5, 3), (2, 1, 5, 3, 4), (2, 1, 5, 4, 3), (2, 3, 1, 4, 5), (2, 3, 1, 5, 4), (2, 3, 4, 1, 5), (2, 3, 4, 5, 1), (2, 3, 5, 1, 4), (2, 3, 5, 4, 1), (2, 4, 1, 3, 5), (2, 4, 1, 5, 3), (2, 4, 3, 1, 5), (2, 4, 3, 5, 1), (2, 4, 5, 1, 3), (2, 4, 5, 3, 1), (2, 5, 1, 3, 4), (2, 5, 1, 4, 3), (2, 5, 3, 1, 4), (2, 5, 3, 4, 1), (2, 5, 4, 1, 3), (2, 5, 4, 3, 1), (3, 1, 2, 4, 5), (3, 1, 2, 5, 4), (3, 1, 4, 2, 5), (3, 1, 4, 5, 2), (3, 1, 5, 2, 4), (3, 1, 5, 4, 2), (3, 2, 1, 4, 5), (3, 2, 1, 5, 4), (3, 2, 4, 1, 5), (3, 2, 4, 5, 1), (3, 2, 5, 1, 4), (3, 2, 5, 4, 1), (3, 4, 1, 2, 5), (3, 4, 1, 5, 2), (3, 4, 2, 1, 5), (3, 4, 2, 5, 1), (3, 4, 5, 1, 2), (3, 4, 5, 2, 1), (3, 5, 1, 2, 4), (3, 5, 1, 4, 2), (3, 5, 2, 1, 4), (3, 5, 2, 4, 1), (3, 5, 4, 1, 2), (3, 5, 4, 2, 1), (4, 1, 2, 3, 5), (4, 1, 2, 5, 3), (4, 1, 3, 2, 5), (4, 1, 3, 5, 2), (4, 1, 5, 2, 3), (4, 1, 5, 3, 2), (4, 2, 1, 3, 5), (4, 2, 1, 5, 3), (4, 2, 3, 1, 5), (4, 2, 3, 5, 1), (4, 2, 5, 1, 3), (4, 2, 5, 3, 1), (4, 3, 1, 2, 5), (4, 3, 1, 5, 2), (4, 3, 2, 1, 5), (4, 3, 2, 5, 1), (4, 3, 5, 1, 2), (4, 3, 5, 2, 1), (4, 5, 1, 2, 3), (4, 5, 1, 3, 2), (4, 5, 2, 1, 3), (4, 5, 2, 3, 1), (4, 5, 3, 1, 2), (4, 5, 3, 2, 1), (5, 1, 2, 3, 4), (5, 1, 2, 4, 3), (5, 1, 3, 2, 4), (5, 1, 3, 4, 2), (5, 1, 4, 2, 3), (5, 1, 4, 3, 2), (5, 2, 1, 3, 4), (5, 2, 1, 4, 3), (5, 2, 3, 1, 4), (5, 2, 3, 4, 1), (5, 2, 4, 1, 3), (5, 2, 4, 3, 1), (5, 3, 1, 2, 4), (5, 3, 1, 4, 2), (5, 3, 2, 1, 4), (5, 3, 2, 4, 1), (5, 3, 4, 1, 2), (5, 3, 4, 2, 1), (5, 4, 1, 2, 3), (5, 4, 1, 3, 2), (5, 4, 2, 1, 3), (5, 4, 2, 3, 1), (5, 4, 3, 1, 2), (5, 4, 3, 2, 1)]\n"
     ]
    }
   ],
   "source": [
    "import itertools\n",
    "print(list(itertools.permutations([1,2,3,4,5])))\n",
    "\n"
   ]
  },
  {
   "cell_type": "markdown",
   "id": "5bab9f49",
   "metadata": {},
   "source": [
    "# 19. Write a Python program to get the difference between the two lists"
   ]
  },
  {
   "cell_type": "code",
   "execution_count": 50,
   "id": "3964e0a9",
   "metadata": {},
   "outputs": [
    {
     "name": "stdout",
     "output_type": "stream",
     "text": [
      "[9, 3, 5, 8, 2, 4, 6]\n"
     ]
    }
   ],
   "source": [
    "list1 = [1, 3, 5, 7, 9]\n",
    "list2=[1, 2, 4, 6, 7, 8]\n",
    "diff_list1_list2 = list(set(list1) - set(list2))\n",
    "diff_list2_list1 = list(set(list2) - set(list1))\n",
    "total_diff = diff_list1_list2 + diff_list2_list1\n",
    "print(total_diff)\n"
   ]
  },
  {
   "cell_type": "markdown",
   "id": "849d3e60",
   "metadata": {},
   "source": [
    "# 20. Write a Python program access the index of a list"
   ]
  },
  {
   "cell_type": "code",
   "execution_count": 51,
   "id": "640a2607",
   "metadata": {},
   "outputs": [
    {
     "name": "stdout",
     "output_type": "stream",
     "text": [
      "0 5\n",
      "1 15\n",
      "2 35\n",
      "3 8\n",
      "4 98\n"
     ]
    }
   ],
   "source": [
    "nums = [5, 15, 35, 8, 98]\n",
    "for num_index, num_val in enumerate(nums):\n",
    "    print(num_index, num_val)\n"
   ]
  },
  {
   "cell_type": "markdown",
   "id": "806c35d6",
   "metadata": {},
   "source": [
    "# 21. Write a Python program to convert a list of characters into a string."
   ]
  },
  {
   "cell_type": "code",
   "execution_count": 52,
   "id": "00e3cf5b",
   "metadata": {},
   "outputs": [
    {
     "name": "stdout",
     "output_type": "stream",
     "text": [
      "abcd\n"
     ]
    }
   ],
   "source": [
    "s = ['a', 'b', 'c', 'd']\n",
    "str1 = ''.join(s)\n",
    "print(str1)\n",
    "\n"
   ]
  },
  {
   "cell_type": "markdown",
   "id": "01cf196a",
   "metadata": {},
   "source": [
    "# 22. Write a Python program to find the index of an item in a specified list."
   ]
  },
  {
   "cell_type": "code",
   "execution_count": 54,
   "id": "636adbb7",
   "metadata": {},
   "outputs": [
    {
     "name": "stdout",
     "output_type": "stream",
     "text": [
      "1\n"
     ]
    }
   ],
   "source": [
    "num =[60, 80, 4, -6]\n",
    "print(num.index(80))\n"
   ]
  },
  {
   "cell_type": "markdown",
   "id": "b898568c",
   "metadata": {},
   "source": [
    "# 23. Write a Python program to flatten a shallow list."
   ]
  },
  {
   "cell_type": "code",
   "execution_count": 55,
   "id": "919141e1",
   "metadata": {},
   "outputs": [
    {
     "name": "stdout",
     "output_type": "stream",
     "text": [
      "[2, 4, 3, 1, 5, 6, 9, 7, 9, 0]\n"
     ]
    }
   ],
   "source": [
    "import itertools\n",
    "original_list = [[2,4,3],[1,5,6], [9], [7,9,0]]\n",
    "new_merged_list = list(itertools.chain(*original_list))\n",
    "print(new_merged_list)\n"
   ]
  },
  {
   "cell_type": "markdown",
   "id": "88e51662",
   "metadata": {},
   "source": [
    "# 24. Write a Python program to append a list to the second list"
   ]
  },
  {
   "cell_type": "code",
   "execution_count": 56,
   "id": "abfd684c",
   "metadata": {},
   "outputs": [
    {
     "name": "stdout",
     "output_type": "stream",
     "text": [
      "[1, 2, 3, 0, 'Red', 'Green', 'Black']\n"
     ]
    }
   ],
   "source": [
    "list1 = [1, 2, 3, 0]\n",
    "list2 = ['Red', 'Green', 'Black']\n",
    "final_list = list1 + list2\n",
    "print(final_list)\n"
   ]
  },
  {
   "cell_type": "markdown",
   "id": "8c6d25aa",
   "metadata": {},
   "source": [
    "# 25. Write a Python program to select an item randomly from a list"
   ]
  },
  {
   "cell_type": "code",
   "execution_count": 57,
   "id": "e0672bf4",
   "metadata": {},
   "outputs": [
    {
     "name": "stdout",
     "output_type": "stream",
     "text": [
      "Black\n"
     ]
    }
   ],
   "source": [
    "import random\n",
    "color_list = ['Red', 'Blue', 'Green', 'White', 'Black']\n",
    "print(random.choice(color_list))\n"
   ]
  },
  {
   "cell_type": "markdown",
   "id": "81b305a1",
   "metadata": {},
   "source": [
    "# 26. Write a python program to check whether two lists are circularly identica"
   ]
  },
  {
   "cell_type": "code",
   "execution_count": 58,
   "id": "5eb49422",
   "metadata": {},
   "outputs": [
    {
     "name": "stdout",
     "output_type": "stream",
     "text": [
      "Compare list1 and list2\n",
      "True\n",
      "Compare list1 and list3\n",
      "False\n"
     ]
    }
   ],
   "source": [
    "list1 = [10, 10, 0, 0, 10]\n",
    "list2 = [10, 10, 10, 0, 0]\n",
    "list3 = [1, 10, 10, 0, 0]\n",
    "\n",
    "print('Compare list1 and list2')\n",
    "print(' '.join(map(str, list2)) in ' '.join(map(str, list1 * 2)))\n",
    "print('Compare list1 and list3')\n",
    "print(' '.join(map(str, list3)) in ' '.join(map(str, list1 * 2)))\n"
   ]
  },
  {
   "cell_type": "markdown",
   "id": "84182a2a",
   "metadata": {},
   "source": [
    "# 27. Write a Python program to find the second smallest number in a list"
   ]
  },
  {
   "cell_type": "code",
   "execution_count": 59,
   "id": "42613a59",
   "metadata": {},
   "outputs": [
    {
     "name": "stdout",
     "output_type": "stream",
     "text": [
      "-2\n",
      "0\n",
      "0\n",
      "None\n",
      "None\n"
     ]
    }
   ],
   "source": [
    "def second_smallest(numbers):\n",
    "  if (len(numbers)<2):\n",
    "    return\n",
    "  if ((len(numbers)==2)  and (numbers[0] == numbers[1]) ):\n",
    "    return\n",
    "  dup_items = set()\n",
    "  uniq_items = []\n",
    "  for x in numbers:\n",
    "    if x not in dup_items:\n",
    "      uniq_items.append(x)\n",
    "      dup_items.add(x)\n",
    "  uniq_items.sort()    \n",
    "  return  uniq_items[1]   \n",
    "\n",
    "print(second_smallest([1, 2, -8, -2, 0, -2]))\n",
    "print(second_smallest([1, 1, 0, 0, 2, -2, -2]))\n",
    "print(second_smallest([1, 1, 1, 0, 0, 0, 2, -2, -2]))\n",
    "print(second_smallest([2,2]))\n",
    "print(second_smallest([2]))\n"
   ]
  },
  {
   "cell_type": "markdown",
   "id": "10f555bb",
   "metadata": {},
   "source": [
    "# 28. Write a Python program to find the second largest number in a list."
   ]
  },
  {
   "cell_type": "code",
   "execution_count": 61,
   "id": "760f2461",
   "metadata": {},
   "outputs": [
    {
     "name": "stdout",
     "output_type": "stream",
     "text": [
      "3\n",
      "1\n",
      "None\n",
      "None\n"
     ]
    }
   ],
   "source": [
    "def second_largest(numbers):\n",
    "  if (len(numbers)<2):\n",
    "    return\n",
    "  if ((len(numbers)==2)  and (numbers[0] == numbers[1]) ):\n",
    "    return\n",
    "  dup_items = set()\n",
    "  uniq_items = []\n",
    "  for x in numbers:\n",
    "    if x not in dup_items:\n",
    "      uniq_items.append(x)\n",
    "      dup_items.add(x)\n",
    "  uniq_items.sort()    \n",
    "  return  uniq_items[-2]   \n",
    "print(second_largest([1,2,3,4,4]))\n",
    "print(second_largest([1, 1, 1, 0, 0, 0, 2, -2, -2]))\n",
    "print(second_largest([2,2]))\n",
    "print(second_largest([1]))\n"
   ]
  },
  {
   "cell_type": "markdown",
   "id": "11fdf86b",
   "metadata": {},
   "source": [
    "# 29. write a a python program to get unique value from A LIST"
   ]
  },
  {
   "cell_type": "code",
   "execution_count": 4,
   "id": "56cc9915",
   "metadata": {},
   "outputs": [
    {
     "name": "stdout",
     "output_type": "stream",
     "text": [
      "Original List :  [1, 2, 3, 4, 5, 65, 7, 8, 44, 55, 65]\n",
      "List of unique numbers :  [1, 2, 3, 4, 5, 65, 7, 8, 44, 55]\n"
     ]
    }
   ],
   "source": [
    "my_list = [1,2,3,4,5,65,7,8,44,55,65]\n",
    "print(\"Original List : \",my_list)\n",
    "my_set = set(my_list)\n",
    "my_new_list = list(my_set)\n",
    "print(\"List of unique numbers : \",my_new_list)"
   ]
  },
  {
   "cell_type": "markdown",
   "id": "61323dec",
   "metadata": {},
   "source": [
    "# 30. Write a Python program to get the frequency of the elements in a list."
   ]
  },
  {
   "cell_type": "code",
   "execution_count": 5,
   "id": "36cd51ff",
   "metadata": {},
   "outputs": [
    {
     "name": "stdout",
     "output_type": "stream",
     "text": [
      "Original List :  [10, 10, 10, 10, 20, 20, 20, 20, 40, 40, 50, 50, 30]\n",
      "Frequency of the elements in the List :  Counter({10: 4, 20: 4, 40: 2, 50: 2, 30: 1})\n"
     ]
    }
   ],
   "source": [
    "import collections\n",
    "my_list = [10,10,10,10,20,20,20,20,40,40,50,50,30]\n",
    "print(\"Original List : \",my_list)\n",
    "ctr = collections.Counter(my_list)\n",
    "print(\"Frequency of the elements in the List : \",ctr)\n"
   ]
  },
  {
   "cell_type": "markdown",
   "id": "0c92d980",
   "metadata": {},
   "source": [
    "# 31. Write a Python program to count the number of elements in a list within a specified range"
   ]
  },
  {
   "cell_type": "code",
   "execution_count": 8,
   "id": "77ab3fdd",
   "metadata": {},
   "outputs": [
    {
     "name": "stdout",
     "output_type": "stream",
     "text": [
      "6\n",
      "5\n"
     ]
    }
   ],
   "source": [
    "def count_range_in_list(li, min, max):\n",
    "    ctr = 0\n",
    "    for x in li:\n",
    "          if min <= x <= max:\n",
    "            ctr += 1\n",
    "    return ctr\n",
    "\n",
    "list1 = [10,20,30,40,40,40,70,80,99]\n",
    "print(count_range_in_list(list1, 40, 100))\n",
    "\n",
    "list2 = ['a','b','c','d','e','f']\n",
    "print(count_range_in_list(list2, 'a', 'e'))\n"
   ]
  },
  {
   "cell_type": "markdown",
   "id": "abe3f56a",
   "metadata": {},
   "source": [
    "# 32. Write a Python program to check whether a list contains a sublist."
   ]
  },
  {
   "cell_type": "code",
   "execution_count": 11,
   "id": "3a92d73b",
   "metadata": {},
   "outputs": [
    {
     "name": "stdout",
     "output_type": "stream",
     "text": [
      "The original list : [5, 6, 3, 8, 2, 1, 7, 1]\n",
      "Is sublist present in list ? : True\n"
     ]
    }
   ],
   "source": [
    "\n",
    "test_list = [5, 6, 3, 8, 2, 1, 7, 1]\n",
    "\n",
    "print(\"The original list : \" + str(test_list))\n",
    "\n",
    "sublist = [8, 2, 1]\n",
    "\n",
    "# Check for Sublist in List\n",
    "# Using any() + list slicing + generator expression\n",
    "res = any(test_list[idx: idx + len(sublist)] == sublist\n",
    "     for idx in range(len(test_list) - len(sublist) + 1))\n",
    "print(\"Is sublist present in list ? : \" + str(res))\n"
   ]
  },
  {
   "cell_type": "markdown",
   "id": "20727e28",
   "metadata": {},
   "source": [
    "# 33. Write a Python program to generate all sublists of a list."
   ]
  },
  {
   "cell_type": "code",
   "execution_count": 19,
   "id": "c433b9f2",
   "metadata": {},
   "outputs": [
    {
     "name": "stdout",
     "output_type": "stream",
     "text": [
      "[[], [1]]\n"
     ]
    }
   ],
   "source": [
    "\n",
    "# function to generate all the sub lists\n",
    "def sub_lists (l):\n",
    "    lists = [[]]\n",
    "    for i in range(len(l) + 1):\n",
    "        for j in range(i):\n",
    "            lists.append(l[j: i])\n",
    "             \n",
    "                \n",
    "            return lists\n",
    "\n",
    "\n",
    "l1 = [1, 2, 3]\n",
    "print(sub_lists(l1))\n"
   ]
  },
  {
   "cell_type": "code",
   "execution_count": null,
   "id": "ff45365c",
   "metadata": {},
   "outputs": [],
   "source": []
  }
 ],
 "metadata": {
  "kernelspec": {
   "display_name": "Python 3 (ipykernel)",
   "language": "python",
   "name": "python3"
  },
  "language_info": {
   "codemirror_mode": {
    "name": "ipython",
    "version": 3
   },
   "file_extension": ".py",
   "mimetype": "text/x-python",
   "name": "python",
   "nbconvert_exporter": "python",
   "pygments_lexer": "ipython3",
   "version": "3.9.13"
  }
 },
 "nbformat": 4,
 "nbformat_minor": 5
}
