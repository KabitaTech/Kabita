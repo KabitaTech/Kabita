{
 "cells": [
  {
   "cell_type": "markdown",
   "id": "dcdec54f",
   "metadata": {},
   "source": [
    "# STRING"
   ]
  },
  {
   "cell_type": "markdown",
   "id": "30385570",
   "metadata": {},
   "source": [
    "#slicing in string\n",
    "\n",
    "\n"
   ]
  },
  {
   "cell_type": "code",
   "execution_count": 13,
   "id": "3d470024",
   "metadata": {},
   "outputs": [
    {
     "data": {
      "text/plain": [
       "0"
      ]
     },
     "execution_count": 13,
     "metadata": {},
     "output_type": "execute_result"
    }
   ],
   "source": [
    "list= ['Hello World', 456, 'v']\n",
    "list.index('Hello World')"
   ]
  },
  {
   "cell_type": "code",
   "execution_count": 19,
   "id": "9881dbc0",
   "metadata": {},
   "outputs": [
    {
     "data": {
      "text/plain": [
       "'lo '"
      ]
     },
     "execution_count": 19,
     "metadata": {},
     "output_type": "execute_result"
    }
   ],
   "source": [
    "s= \"Hello World\"\n",
    "s[3:6]"
   ]
  },
  {
   "cell_type": "code",
   "execution_count": 16,
   "id": "a5243bcc",
   "metadata": {},
   "outputs": [
    {
     "data": {
      "text/plain": [
       "['He', '', 'o Wor', 'd']"
      ]
     },
     "execution_count": 16,
     "metadata": {},
     "output_type": "execute_result"
    }
   ],
   "source": [
    "s='Hello World'\n",
    "s.split('l')"
   ]
  },
  {
   "cell_type": "code",
   "execution_count": 9,
   "id": "e80c0ed5",
   "metadata": {},
   "outputs": [
    {
     "data": {
      "text/plain": [
       "11"
      ]
     },
     "execution_count": 9,
     "metadata": {},
     "output_type": "execute_result"
    }
   ],
   "source": [
    "s=\"Hello World\"\n",
    "len(s)"
   ]
  },
  {
   "cell_type": "code",
   "execution_count": 18,
   "id": "0a0681bf",
   "metadata": {},
   "outputs": [
    {
     "data": {
      "text/plain": [
       "['Hello ', 'orld']"
      ]
     },
     "execution_count": 18,
     "metadata": {},
     "output_type": "execute_result"
    }
   ],
   "source": [
    "s=\"Hello World\"\n",
    "s.split(\"W\")"
   ]
  },
  {
   "cell_type": "code",
   "execution_count": 20,
   "id": "6ffe362b",
   "metadata": {},
   "outputs": [],
   "source": [
    "list_s=s.split('o')"
   ]
  },
  {
   "cell_type": "code",
   "execution_count": 22,
   "id": "330327b1",
   "metadata": {},
   "outputs": [
    {
     "data": {
      "text/plain": [
       "['Hell', ' W', 'rld']"
      ]
     },
     "execution_count": 22,
     "metadata": {},
     "output_type": "execute_result"
    }
   ],
   "source": [
    "list_s"
   ]
  },
  {
   "cell_type": "code",
   "execution_count": 23,
   "id": "fb75ef47",
   "metadata": {},
   "outputs": [
    {
     "data": {
      "text/plain": [
       "'Hell  W rld'"
      ]
     },
     "execution_count": 23,
     "metadata": {},
     "output_type": "execute_result"
    }
   ],
   "source": [
    "\" \" .join(list_s)"
   ]
  },
  {
   "cell_type": "code",
   "execution_count": 24,
   "id": "5be1307e",
   "metadata": {},
   "outputs": [
    {
     "data": {
      "text/plain": [
       "'Hello World'"
      ]
     },
     "execution_count": 24,
     "metadata": {},
     "output_type": "execute_result"
    }
   ],
   "source": [
    "\"o\".join(list_s)"
   ]
  },
  {
   "cell_type": "code",
   "execution_count": 26,
   "id": "107af5c1",
   "metadata": {},
   "outputs": [
    {
     "data": {
      "text/plain": [
       "'HellO WOrld'"
      ]
     },
     "execution_count": 26,
     "metadata": {},
     "output_type": "execute_result"
    }
   ],
   "source": [
    "s.replace('o',\"O\")"
   ]
  },
  {
   "cell_type": "code",
   "execution_count": 29,
   "id": "2211b900",
   "metadata": {},
   "outputs": [
    {
     "data": {
      "text/plain": [
       "'HellOO WOOrld'"
      ]
     },
     "execution_count": 29,
     "metadata": {},
     "output_type": "execute_result"
    }
   ],
   "source": [
    "s.replace(\"o\",\"OO\")"
   ]
  },
  {
   "cell_type": "code",
   "execution_count": 30,
   "id": "1805520c",
   "metadata": {},
   "outputs": [
    {
     "data": {
      "text/plain": [
       "'Hello World'"
      ]
     },
     "execution_count": 30,
     "metadata": {},
     "output_type": "execute_result"
    }
   ],
   "source": [
    "s"
   ]
  },
  {
   "cell_type": "code",
   "execution_count": 31,
   "id": "f63fade6",
   "metadata": {},
   "outputs": [
    {
     "data": {
      "text/plain": [
       "'Hello World'"
      ]
     },
     "execution_count": 31,
     "metadata": {},
     "output_type": "execute_result"
    }
   ],
   "source": [
    "s.title()"
   ]
  },
  {
   "cell_type": "code",
   "execution_count": 33,
   "id": "e7cf1fe4",
   "metadata": {},
   "outputs": [
    {
     "data": {
      "text/plain": [
       "'Hello world'"
      ]
     },
     "execution_count": 33,
     "metadata": {},
     "output_type": "execute_result"
    }
   ],
   "source": [
    "s.capitalize()"
   ]
  },
  {
   "cell_type": "code",
   "execution_count": 34,
   "id": "23c8ad2a",
   "metadata": {},
   "outputs": [
    {
     "data": {
      "text/plain": [
       "'HELLO WORLD'"
      ]
     },
     "execution_count": 34,
     "metadata": {},
     "output_type": "execute_result"
    }
   ],
   "source": [
    "s.upper()"
   ]
  },
  {
   "cell_type": "code",
   "execution_count": 35,
   "id": "84175381",
   "metadata": {},
   "outputs": [
    {
     "data": {
      "text/plain": [
       "'hello world'"
      ]
     },
     "execution_count": 35,
     "metadata": {},
     "output_type": "execute_result"
    }
   ],
   "source": [
    "s.lower()"
   ]
  },
  {
   "cell_type": "code",
   "execution_count": 39,
   "id": "dec3f545",
   "metadata": {
    "scrolled": true
   },
   "outputs": [
    {
     "data": {
      "text/plain": [
       "3"
      ]
     },
     "execution_count": 39,
     "metadata": {},
     "output_type": "execute_result"
    }
   ],
   "source": [
    "s.count(\"l\")"
   ]
  },
  {
   "cell_type": "code",
   "execution_count": 40,
   "id": "4bb31e1c",
   "metadata": {},
   "outputs": [
    {
     "data": {
      "text/plain": [
       "11"
      ]
     },
     "execution_count": 40,
     "metadata": {},
     "output_type": "execute_result"
    }
   ],
   "source": [
    "len(s)"
   ]
  },
  {
   "cell_type": "code",
   "execution_count": 28,
   "id": "f9521034",
   "metadata": {},
   "outputs": [
    {
     "data": {
      "text/plain": [
       "'5678'"
      ]
     },
     "execution_count": 28,
     "metadata": {},
     "output_type": "execute_result"
    }
   ],
   "source": [
    "p=('56 78')\n",
    "p.replace(' ','')"
   ]
  },
  {
   "cell_type": "markdown",
   "id": "d93f5e63",
   "metadata": {},
   "source": [
    "# TUPLE"
   ]
  },
  {
   "cell_type": "markdown",
   "id": "ae8fb576",
   "metadata": {},
   "source": [
    "#slicing\n",
    "#immutable\n",
    "# indexing"
   ]
  },
  {
   "cell_type": "code",
   "execution_count": 57,
   "id": "4a255cc2",
   "metadata": {},
   "outputs": [
    {
     "data": {
      "text/plain": [
       "tuple"
      ]
     },
     "execution_count": 57,
     "metadata": {},
     "output_type": "execute_result"
    }
   ],
   "source": [
    "tuple1= ('abc', 88,3.5)\n",
    "type(tuple1)"
   ]
  },
  {
   "cell_type": "code",
   "execution_count": 5,
   "id": "c4574539",
   "metadata": {},
   "outputs": [
    {
     "data": {
      "text/plain": [
       "[2, 3, 4]"
      ]
     },
     "execution_count": 5,
     "metadata": {},
     "output_type": "execute_result"
    }
   ],
   "source": [
    "tuple1= (\"abc\",[2,3,4],'one')\n",
    "tuple1[1]\n"
   ]
  },
  {
   "cell_type": "code",
   "execution_count": 15,
   "id": "1875c509",
   "metadata": {},
   "outputs": [
    {
     "data": {
      "text/plain": [
       "('abc', [2, 3, 50], 'one')"
      ]
     },
     "execution_count": 15,
     "metadata": {},
     "output_type": "execute_result"
    }
   ],
   "source": [
    "tuple1= (\"abc\",[2,3,4],'one')\n",
    "tuple1[1][2]=50\n",
    "tuple1\n"
   ]
  },
  {
   "cell_type": "code",
   "execution_count": 30,
   "id": "cd3f4f33",
   "metadata": {},
   "outputs": [
    {
     "data": {
      "text/plain": [
       "tuple"
      ]
     },
     "execution_count": 30,
     "metadata": {},
     "output_type": "execute_result"
    }
   ],
   "source": [
    "type(tuple1)"
   ]
  },
  {
   "cell_type": "code",
   "execution_count": 72,
   "id": "a938fc6c",
   "metadata": {},
   "outputs": [
    {
     "data": {
      "text/plain": [
       "'abc'"
      ]
     },
     "execution_count": 72,
     "metadata": {},
     "output_type": "execute_result"
    }
   ],
   "source": [
    "tuple2 =(\"abc\", [5,6,8], 90, 'j')\n",
    "tuple2 [0]"
   ]
  },
  {
   "cell_type": "code",
   "execution_count": 60,
   "id": "de7d539f",
   "metadata": {},
   "outputs": [
    {
     "data": {
      "text/plain": [
       "tuple"
      ]
     },
     "execution_count": 60,
     "metadata": {},
     "output_type": "execute_result"
    }
   ],
   "source": [
    "type(tuple2)"
   ]
  },
  {
   "cell_type": "code",
   "execution_count": 32,
   "id": "d8526ab7",
   "metadata": {},
   "outputs": [
    {
     "data": {
      "text/plain": [
       "(8, 40, 10)"
      ]
     },
     "execution_count": 32,
     "metadata": {},
     "output_type": "execute_result"
    }
   ],
   "source": [
    "t1= ( 8,9,10)\n",
    "l= list(t1)\n",
    "l[1]=40\n",
    "t1=tuple(l)\n",
    "t1\n"
   ]
  },
  {
   "cell_type": "code",
   "execution_count": 33,
   "id": "77b7de52",
   "metadata": {},
   "outputs": [
    {
     "data": {
      "text/plain": [
       "tuple"
      ]
     },
     "execution_count": 33,
     "metadata": {},
     "output_type": "execute_result"
    }
   ],
   "source": [
    "type(t1)"
   ]
  },
  {
   "cell_type": "markdown",
   "id": "08fed03d",
   "metadata": {},
   "source": [
    "# SET & Dictionary"
   ]
  },
  {
   "cell_type": "code",
   "execution_count": 35,
   "id": "3394ae52",
   "metadata": {},
   "outputs": [
    {
     "data": {
      "text/plain": [
       "set"
      ]
     },
     "execution_count": 35,
     "metadata": {},
     "output_type": "execute_result"
    }
   ],
   "source": [
    "list1={0.1,4}\n",
    "type (list1)"
   ]
  },
  {
   "cell_type": "code",
   "execution_count": 37,
   "id": "75aaa939",
   "metadata": {},
   "outputs": [
    {
     "data": {
      "text/plain": [
       "([1, 2, 3, 4, 5, 6, 7, 4, 45, 6, 2, 2, 4, 1, 0], {0, 1, 2, 4, 6, 8, 90})"
      ]
     },
     "execution_count": 37,
     "metadata": {},
     "output_type": "execute_result"
    }
   ],
   "source": [
    "list1=[1,2,3,4,5,6,7,4,45,6,2,2,4,1,0]\n",
    "set1={4,4,8,90,2,2,1,0,8,6,4,0,1}\n",
    "list1,set1"
   ]
  },
  {
   "cell_type": "code",
   "execution_count": 38,
   "id": "7685891a",
   "metadata": {},
   "outputs": [
    {
     "data": {
      "text/plain": [
       "({1, 3, 6, 7, 43, 45, 56, 76, 98, 222}, {0, 1, 4, 5, 6, 43, 56, 78, 89, 98})"
      ]
     },
     "execution_count": 38,
     "metadata": {},
     "output_type": "execute_result"
    }
   ],
   "source": [
    "set1={1,3,6,7,98,56,43,76,222,45}\n",
    "set2={1,4,5,6,89,56,78,43,98,0}\n",
    "set1,set2"
   ]
  },
  {
   "cell_type": "code",
   "execution_count": 46,
   "id": "6caff6c6",
   "metadata": {},
   "outputs": [
    {
     "data": {
      "text/plain": [
       "{1, 3, 6, 7, 45, 56, 76, 98, 222, 789}"
      ]
     },
     "execution_count": 46,
     "metadata": {},
     "output_type": "execute_result"
    }
   ],
   "source": [
    "set1.add(789)\n",
    "set1"
   ]
  },
  {
   "cell_type": "code",
   "execution_count": 50,
   "id": "937c931c",
   "metadata": {},
   "outputs": [
    {
     "data": {
      "text/plain": [
       "{0, 1, 5, 6, 43, 56, 78, 89, 98}"
      ]
     },
     "execution_count": 50,
     "metadata": {},
     "output_type": "execute_result"
    }
   ],
   "source": [
    "set2={1,4,5,6,89,56,78,43,98,0}\n",
    "set2.remove(4)\n",
    "set2"
   ]
  },
  {
   "cell_type": "code",
   "execution_count": 51,
   "id": "b6091e39",
   "metadata": {},
   "outputs": [
    {
     "data": {
      "text/plain": [
       "{3, 7, 45, 76, 222, 789}"
      ]
     },
     "execution_count": 51,
     "metadata": {},
     "output_type": "execute_result"
    }
   ],
   "source": [
    "set1.difference(set2)"
   ]
  },
  {
   "cell_type": "code",
   "execution_count": 52,
   "id": "9d22e621",
   "metadata": {},
   "outputs": [
    {
     "data": {
      "text/plain": [
       "{0, 1, 3, 5, 6, 7, 43, 45, 56, 76, 78, 89, 98, 222, 789}"
      ]
     },
     "execution_count": 52,
     "metadata": {},
     "output_type": "execute_result"
    }
   ],
   "source": [
    "set1.union(set2)"
   ]
  },
  {
   "cell_type": "code",
   "execution_count": 58,
   "id": "967555a2",
   "metadata": {},
   "outputs": [
    {
     "data": {
      "text/plain": [
       "{0, 1, 3, 4, 5, 6, 7, 43, 45, 56, 76, 78, 89, 98, 222}"
      ]
     },
     "execution_count": 58,
     "metadata": {},
     "output_type": "execute_result"
    }
   ],
   "source": [
    "set1={1,3,6,7,98,56,43,76,222,45}\n",
    "set2={1,4,5,6,89,56,78,43,98,0}\n",
    "\n",
    "\n",
    "set1.update(set2)\n",
    "set1"
   ]
  },
  {
   "cell_type": "code",
   "execution_count": 59,
   "id": "59b8f956",
   "metadata": {},
   "outputs": [
    {
     "data": {
      "text/plain": [
       "{0, 1, 4, 5, 6, 43, 56, 78, 89, 98}"
      ]
     },
     "execution_count": 59,
     "metadata": {},
     "output_type": "execute_result"
    }
   ],
   "source": [
    "set1.intersection(set2)"
   ]
  },
  {
   "cell_type": "code",
   "execution_count": 61,
   "id": "f5052c6a",
   "metadata": {},
   "outputs": [
    {
     "data": {
      "text/plain": [
       "{0, 1, 4, 5, 6, 43, 56, 78, 89, 98}"
      ]
     },
     "execution_count": 61,
     "metadata": {},
     "output_type": "execute_result"
    }
   ],
   "source": [
    "set2.difference(set1)\n",
    "set2"
   ]
  },
  {
   "cell_type": "code",
   "execution_count": null,
   "id": "db848e70",
   "metadata": {},
   "outputs": [],
   "source": []
  }
 ],
 "metadata": {
  "kernelspec": {
   "display_name": "Python 3 (ipykernel)",
   "language": "python",
   "name": "python3"
  },
  "language_info": {
   "codemirror_mode": {
    "name": "ipython",
    "version": 3
   },
   "file_extension": ".py",
   "mimetype": "text/x-python",
   "name": "python",
   "nbconvert_exporter": "python",
   "pygments_lexer": "ipython3",
   "version": "3.9.13"
  }
 },
 "nbformat": 4,
 "nbformat_minor": 5
}
