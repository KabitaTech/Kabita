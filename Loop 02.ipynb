{
 "cells": [
  {
   "cell_type": "markdown",
   "id": "b615e4c4",
   "metadata": {},
   "source": [
    "# SORTING\n",
    "# Sample List : [(8, 5), (1, 8), (5, 6), (2, 3), (2, 2)]\n"
   ]
  },
  {
   "cell_type": "code",
   "execution_count": 31,
   "id": "dcc5fe66",
   "metadata": {},
   "outputs": [
    {
     "name": "stdout",
     "output_type": "stream",
     "text": [
      "All the last value of tuples after sorting [2, 3, 5, 6, 8]\n",
      "value 2\n",
      "5\n",
      "8\n",
      "6\n",
      "3\n",
      "2\n",
      "[(2, 2)]\n",
      "value 3\n",
      "5\n",
      "8\n",
      "6\n",
      "3\n",
      "[(2, 2), (2, 3)]\n",
      "value 5\n",
      "5\n",
      "[(2, 2), (2, 3), (8, 5)]\n",
      "value 6\n",
      "5\n",
      "8\n",
      "6\n",
      "[(2, 2), (2, 3), (8, 5), (5, 6)]\n",
      "value 8\n",
      "5\n",
      "8\n",
      "[(2, 2), (2, 3), (8, 5), (5, 6), (1, 8)]\n"
     ]
    }
   ],
   "source": [
    "v = [(8, 5), (1, 8), (5, 6), (2, 3), (2, 2)]\n",
    "second_index_value = []\n",
    "for tuples in v:\n",
    "#     print('Tuples are',tuples)\n",
    "#     print('last element of tuple',tuples[1])\n",
    "    second_index_value.append(tuples[1])\n",
    "\n",
    "# print('All the last value of tuples are',second_index_value)\n",
    "second_index_value.sort()\n",
    "print('All the last value of tuples after sorting',second_index_value)\n",
    "\n",
    "\n",
    "\n",
    "final=[]\n",
    "for value in second_index_value:\n",
    "    print('value',value)\n",
    "    for tuples in v:\n",
    "        print(tuples[1])\n",
    "        if tuples[1]==value:\n",
    "            final.append(tuples)\n",
    "            print(final)\n",
    "            break\n",
    "        "
   ]
  },
  {
   "cell_type": "code",
   "execution_count": 4,
   "id": "1872c096",
   "metadata": {},
   "outputs": [
    {
     "name": "stdout",
     "output_type": "stream",
     "text": [
      "Hello\n",
      "H\n",
      "e\n",
      "l\n",
      "l\n",
      "o\n",
      "world\n",
      "W\n",
      "o\n",
      "r\n",
      "l\n",
      "d\n"
     ]
    }
   ],
   "source": [
    "s = 'Hello world'\n",
    "\n",
    "for word in s.split():\n",
    "    print(word)\n",
    "    print(word[0].upper())\n",
    "    for char in word[1:]:\n",
    "        print(char)\n",
    "    "
   ]
  },
  {
   "cell_type": "code",
   "execution_count": 27,
   "id": "b52c6ee4",
   "metadata": {},
   "outputs": [
    {
     "name": "stdout",
     "output_type": "stream",
     "text": [
      "U\n",
      "n\n",
      "i\n",
      "v\n",
      "e\n",
      "r\n",
      "s\n",
      "i\n",
      "t\n",
      "y\n",
      " \n",
      "O\n",
      "f\n",
      " \n",
      "A\n",
      "s\n",
      "i\n",
      "a\n"
     ]
    }
   ],
   "source": [
    "s = 'University Of Asia'\n",
    "\n",
    "for word in s:\n",
    "    print(word)"
   ]
  },
  {
   "cell_type": "code",
   "execution_count": 28,
   "id": "c05ac76b",
   "metadata": {},
   "outputs": [
    {
     "name": "stdout",
     "output_type": "stream",
     "text": [
      "Asia\n",
      "pacific\n"
     ]
    }
   ],
   "source": [
    "s = 'Asia pacific '\n",
    "\n",
    "for word in s.split():\n",
    "    print(word)"
   ]
  },
  {
   "cell_type": "code",
   "execution_count": 29,
   "id": "9e151924",
   "metadata": {},
   "outputs": [
    {
     "name": "stdout",
     "output_type": "stream",
     "text": [
      "1 1\n",
      "1 2\n",
      "1 3\n",
      "2 1\n",
      "2 2\n",
      "2 3\n"
     ]
    }
   ],
   "source": [
    "for i in range(1,3):\n",
    "    for j in range(1,4):\n",
    "        print(i,j)"
   ]
  },
  {
   "cell_type": "code",
   "execution_count": 21,
   "id": "10b93a43",
   "metadata": {},
   "outputs": [
    {
     "data": {
      "text/plain": [
       "12345"
      ]
     },
     "execution_count": 21,
     "metadata": {},
     "output_type": "execute_result"
    }
   ],
   "source": [
    "1\n",
    "12\n",
    "123\n",
    "1234\n",
    "12345"
   ]
  },
  {
   "cell_type": "code",
   "execution_count": 16,
   "id": "bb3cbc91",
   "metadata": {},
   "outputs": [
    {
     "name": "stdout",
     "output_type": "stream",
     "text": [
      "1 1\n",
      "2 1\n",
      "3 1\n"
     ]
    }
   ],
   "source": [
    "\n",
    "for i in range(1,4):\n",
    "    for j in range(1,2):\n",
    "        print(i,j)"
   ]
  },
  {
   "cell_type": "code",
   "execution_count": 17,
   "id": "db062978",
   "metadata": {},
   "outputs": [
    {
     "data": {
      "text/plain": [
       "12345"
      ]
     },
     "execution_count": 17,
     "metadata": {},
     "output_type": "execute_result"
    }
   ],
   "source": [
    "1\n",
    "12\n",
    "123\n",
    "1234\n",
    "12345"
   ]
  },
  {
   "cell_type": "code",
   "execution_count": 1,
   "id": "cabdd5bc",
   "metadata": {},
   "outputs": [
    {
     "name": "stdout",
     "output_type": "stream",
     "text": [
      "1\n",
      "12\n",
      "123\n",
      "1234\n",
      "12345\n"
     ]
    }
   ],
   "source": [
    "for i in range(1, 6):\n",
    "    for j in range(1, i+1):\n",
    "        print(j, end='')\n",
    "    print()"
   ]
  },
  {
   "cell_type": "code",
   "execution_count": 23,
   "id": "b22f2649",
   "metadata": {},
   "outputs": [
    {
     "name": "stdout",
     "output_type": "stream",
     "text": [
      "[1]\n",
      "[1, 2]\n",
      "[1, 2, 3]\n",
      "[1, 2, 3, 4]\n",
      "[1, 2, 3, 4, 5]\n"
     ]
    }
   ],
   "source": [
    "for i in range(1,6):\n",
    "    for j in range(i+1,0,-2):\n",
    "        print(list(range(1,j)))\n",
    "        break\n"
   ]
  },
  {
   "cell_type": "code",
   "execution_count": 24,
   "id": "f94e3195",
   "metadata": {},
   "outputs": [
    {
     "name": "stdout",
     "output_type": "stream",
     "text": [
      "6\n",
      "8\n"
     ]
    }
   ],
   "source": [
    "list1 = [5,6,3,8,7]\n",
    "\n",
    "\n",
    "i=0\n",
    "while(i<len(list1)):\n",
    "    if i%2!=0:\n",
    "        print(list1[i])\n",
    "    i = i+1"
   ]
  },
  {
   "cell_type": "code",
   "execution_count": 25,
   "id": "8a258cf0",
   "metadata": {},
   "outputs": [
    {
     "name": "stdout",
     "output_type": "stream",
     "text": [
      "0\n",
      "1\n",
      "2\n",
      "3\n",
      "4\n"
     ]
    }
   ],
   "source": [
    "for j in range(0,5):\n",
    "    print(j)"
   ]
  },
  {
   "cell_type": "code",
   "execution_count": 26,
   "id": "a22b6b86",
   "metadata": {},
   "outputs": [
    {
     "name": "stdout",
     "output_type": "stream",
     "text": [
      "0\n",
      "1\n",
      "2\n",
      "3\n",
      "4\n",
      "5\n",
      "6\n",
      "7\n"
     ]
    }
   ],
   "source": [
    "for i in range(0,8):\n",
    "    print(i)"
   ]
  },
  {
   "cell_type": "markdown",
   "id": "26bbc168",
   "metadata": {},
   "source": [
    "# Prime/non prime"
   ]
  },
  {
   "cell_type": "code",
   "execution_count": 71,
   "id": "2c63f153",
   "metadata": {},
   "outputs": [
    {
     "name": "stdout",
     "output_type": "stream",
     "text": [
      "65 is not a prime number\n"
     ]
    }
   ],
   "source": [
    "num= 65\n",
    "if num ==1:\n",
    "       print (num ,\" is  not a prime number :\")\n",
    "elif num > 1:\n",
    "    for i in range ( 2 , num): \n",
    "        if (num% i )==0:\n",
    "            print ( num, \"is not a prime number\" )\n",
    "          \n",
    "            break\n",
    "    else:\n",
    "        print (num,\"is a prime number \") \n",
    "            \n",
    "            \n",
    "else:\n",
    "      print (num,\"is a not a prime number \")\n",
    "                    "
   ]
  },
  {
   "cell_type": "code",
   "execution_count": null,
   "id": "ad28aa72",
   "metadata": {},
   "outputs": [],
   "source": [
    "          \n",
    "          //  print (i,\"times\", num //i,\"is\" \n",
    "                                                       for how many times multiplying\n",
    "                   ,num)"
   ]
  },
  {
   "cell_type": "code",
   "execution_count": 13,
   "id": "766103b6",
   "metadata": {},
   "outputs": [
    {
     "name": "stdout",
     "output_type": "stream",
     "text": [
      "123\n"
     ]
    }
   ],
   "source": [
    "for i in range(3, 4):\n",
    "    for j in range(1, i+1):\n",
    "        print(j, end='')\n",
    "    print()"
   ]
  },
  {
   "cell_type": "markdown",
   "id": "7e08acb3",
   "metadata": {},
   "source": [
    "##### "
   ]
  }
 ],
 "metadata": {
  "kernelspec": {
   "display_name": "Python 3 (ipykernel)",
   "language": "python",
   "name": "python3"
  },
  "language_info": {
   "codemirror_mode": {
    "name": "ipython",
    "version": 3
   },
   "file_extension": ".py",
   "mimetype": "text/x-python",
   "name": "python",
   "nbconvert_exporter": "python",
   "pygments_lexer": "ipython3",
   "version": "3.9.13"
  }
 },
 "nbformat": 4,
 "nbformat_minor": 5
}
