{
 "cells": [
  {
   "cell_type": "markdown",
   "id": "c208bbd4",
   "metadata": {},
   "source": [
    "# if"
   ]
  },
  {
   "cell_type": "code",
   "execution_count": 2,
   "id": "1f2b0b8a",
   "metadata": {},
   "outputs": [
    {
     "name": "stdout",
     "output_type": "stream",
     "text": [
      " a is greater\n"
     ]
    }
   ],
   "source": [
    " a=50\n",
    "b=40\n",
    "if a>b:\n",
    "    print (\" a is greater\")\n",
    "if a<b:\n",
    "    print(\"b is greater\")\n",
    "    if a==b:\n",
    "        print(\"a and b are equal \")"
   ]
  },
  {
   "cell_type": "markdown",
   "id": "475fb834",
   "metadata": {},
   "source": [
    "# if elif"
   ]
  },
  {
   "cell_type": "code",
   "execution_count": 4,
   "id": "9aa1be3c",
   "metadata": {},
   "outputs": [
    {
     "name": "stdout",
     "output_type": "stream",
     "text": [
      "b is greater\n"
     ]
    }
   ],
   "source": [
    " a=20\n",
    "b=40\n",
    "if a>b:\n",
    "    print (\" a is greater\")\n",
    "elif a<b:\n",
    "    print(\"b is greater\")\n",
    "elif a==b:\n",
    "        print(\"a and b are equal \")"
   ]
  },
  {
   "cell_type": "markdown",
   "id": "63928657",
   "metadata": {},
   "source": [
    "# List"
   ]
  },
  {
   "cell_type": "code",
   "execution_count": 5,
   "id": "382d6887",
   "metadata": {},
   "outputs": [
    {
     "data": {
      "text/plain": [
       "4"
      ]
     },
     "execution_count": 5,
     "metadata": {},
     "output_type": "execute_result"
    }
   ],
   "source": [
    "List=[2,3,5,6]\n",
    "List[0]*2"
   ]
  },
  {
   "cell_type": "code",
   "execution_count": 11,
   "id": "d9502577",
   "metadata": {},
   "outputs": [
    {
     "data": {
      "text/plain": [
       "[4, 100, 5, 6]"
      ]
     },
     "execution_count": 11,
     "metadata": {},
     "output_type": "execute_result"
    }
   ],
   "source": [
    "List[1]=100\n",
    "List"
   ]
  },
  {
   "cell_type": "code",
   "execution_count": 12,
   "id": "29835bce",
   "metadata": {},
   "outputs": [],
   "source": [
    "List=[2,3,5,6]\n",
    "List[0]=List[0]*2\n",
    "List[1]=List[1]*2\n",
    "List[2]=List[2]*2\n",
    "List[3]=List[3]*2"
   ]
  },
  {
   "cell_type": "code",
   "execution_count": 13,
   "id": "97325d62",
   "metadata": {},
   "outputs": [
    {
     "data": {
      "text/plain": [
       "[4, 6, 10, 12]"
      ]
     },
     "execution_count": 13,
     "metadata": {},
     "output_type": "execute_result"
    }
   ],
   "source": [
    "List"
   ]
  },
  {
   "cell_type": "code",
   "execution_count": 14,
   "id": "234c0ded",
   "metadata": {},
   "outputs": [
    {
     "data": {
      "text/plain": [
       "40"
      ]
     },
     "execution_count": 14,
     "metadata": {},
     "output_type": "execute_result"
    }
   ],
   "source": [
    "List[2]*4"
   ]
  },
  {
   "cell_type": "code",
   "execution_count": 29,
   "id": "3a5b2d3e",
   "metadata": {},
   "outputs": [
    {
     "data": {
      "text/plain": [
       "[2, 3, 5, 6]"
      ]
     },
     "execution_count": 29,
     "metadata": {},
     "output_type": "execute_result"
    }
   ],
   "source": [
    "List"
   ]
  },
  {
   "cell_type": "code",
   "execution_count": 30,
   "id": "5c9b1491",
   "metadata": {},
   "outputs": [
    {
     "data": {
      "text/plain": [
       "[0, 1, 2, 3]"
      ]
     },
     "execution_count": 30,
     "metadata": {},
     "output_type": "execute_result"
    }
   ],
   "source": [
    "list(range(4))\n",
    "             "
   ]
  },
  {
   "cell_type": "markdown",
   "id": "4805e2a5",
   "metadata": {},
   "source": [
    "# FOR"
   ]
  },
  {
   "cell_type": "code",
   "execution_count": 40,
   "id": "706b4405",
   "metadata": {
    "scrolled": true
   },
   "outputs": [
    {
     "name": "stdout",
     "output_type": "stream",
     "text": [
      "1\n",
      "2\n",
      "3\n",
      "4\n",
      "5\n",
      "6\n",
      "7\n"
     ]
    }
   ],
   "source": [
    "for i in list(range(1,8)):\n",
    "    print (i)\n"
   ]
  },
  {
   "cell_type": "code",
   "execution_count": 41,
   "id": "79196e1c",
   "metadata": {},
   "outputs": [
    {
     "name": "stdout",
     "output_type": "stream",
     "text": [
      "0\n",
      "1\n",
      "2\n",
      "3\n",
      "4\n",
      "5\n",
      "6\n",
      "7\n",
      "8\n",
      "9\n"
     ]
    }
   ],
   "source": [
    "for i in list(range(10)):\n",
    "    print (i)"
   ]
  },
  {
   "cell_type": "code",
   "execution_count": 44,
   "id": "4292e2ca",
   "metadata": {},
   "outputs": [
    {
     "name": "stdout",
     "output_type": "stream",
     "text": [
      "0\n",
      "1\n",
      "2\n",
      "3\n",
      "4\n"
     ]
    }
   ],
   "source": [
    "for element in list(range(5)):\n",
    "    print (element)"
   ]
  },
  {
   "cell_type": "code",
   "execution_count": 57,
   "id": "c3f7f5f4",
   "metadata": {
    "scrolled": true
   },
   "outputs": [
    {
     "name": "stdout",
     "output_type": "stream",
     "text": [
      "0 index 2 element\n",
      "1 index 3 element\n",
      "2 index 5 element\n",
      "3 index 12 element\n"
     ]
    }
   ],
   "source": [
    "for element in List :\n",
    "           print(List.index(element),'index',element,'element')"
   ]
  },
  {
   "cell_type": "code",
   "execution_count": 10,
   "id": "4fb5c7af",
   "metadata": {},
   "outputs": [
    {
     "data": {
      "text/plain": [
       "[2, 3, 4, 5]"
      ]
     },
     "execution_count": 10,
     "metadata": {},
     "output_type": "execute_result"
    }
   ],
   "source": [
    "List"
   ]
  },
  {
   "cell_type": "code",
   "execution_count": 20,
   "id": "20d25673",
   "metadata": {},
   "outputs": [],
   "source": [
    "\n",
    "\n",
    "list2 =[7,8,9]\n",
    "for element in List :\n",
    "    list2.append(element)\n",
    "    list2"
   ]
  },
  {
   "cell_type": "code",
   "execution_count": 21,
   "id": "6a510980",
   "metadata": {},
   "outputs": [
    {
     "data": {
      "text/plain": [
       "[7, 8, 9, 2, 3, 4, 5]"
      ]
     },
     "execution_count": 21,
     "metadata": {},
     "output_type": "execute_result"
    }
   ],
   "source": [
    "list2"
   ]
  },
  {
   "cell_type": "code",
   "execution_count": 31,
   "id": "8b21efdf",
   "metadata": {},
   "outputs": [],
   "source": [
    "list1=[2, 3, 4, 5,10,11,12]\n",
    "list2=[7, 8, 9, 2, 3, 4, 5]\n",
    "for index in range(len(list1)):\n",
    "    if index%2==0:\n",
    "        list2.append(list1[index])\n",
    "        \n"
   ]
  },
  {
   "cell_type": "code",
   "execution_count": 32,
   "id": "c3c3a95c",
   "metadata": {},
   "outputs": [
    {
     "data": {
      "text/plain": [
       "[7, 8, 9, 2, 3, 4, 5, 2, 4, 10, 12]"
      ]
     },
     "execution_count": 32,
     "metadata": {},
     "output_type": "execute_result"
    }
   ],
   "source": [
    "list2"
   ]
  },
  {
   "cell_type": "code",
   "execution_count": 43,
   "id": "fd5d2b88",
   "metadata": {},
   "outputs": [],
   "source": [
    "result_sum=0\n",
    "for element in list1:\n",
    "       result_sum=result_sum+element\n",
    "      "
   ]
  },
  {
   "cell_type": "code",
   "execution_count": 42,
   "id": "73072c9b",
   "metadata": {},
   "outputs": [
    {
     "data": {
      "text/plain": [
       "47"
      ]
     },
     "execution_count": 42,
     "metadata": {},
     "output_type": "execute_result"
    }
   ],
   "source": [
    "  result_sum"
   ]
  },
  {
   "cell_type": "code",
   "execution_count": 44,
   "id": "b065842e",
   "metadata": {},
   "outputs": [
    {
     "data": {
      "text/plain": [
       "[2, 3, 4, 5, 10, 11, 12]"
      ]
     },
     "execution_count": 44,
     "metadata": {},
     "output_type": "execute_result"
    }
   ],
   "source": [
    "list1"
   ]
  },
  {
   "cell_type": "code",
   "execution_count": 46,
   "id": "2c8aa5ec",
   "metadata": {},
   "outputs": [
    {
     "name": "stdout",
     "output_type": "stream",
     "text": [
      "1 1\n",
      "2 2\n",
      "3 6\n",
      "4 24\n"
     ]
    }
   ],
   "source": [
    "n=4\n",
    "result_sum=1\n",
    "for element in range(1,n+1):                 #List1=list(range1,n+1)\n",
    "    result_sum=result_sum*element\n",
    "    print(element,result_sum)\n",
    "      "
   ]
  },
  {
   "cell_type": "code",
   "execution_count": 47,
   "id": "3399ee4f",
   "metadata": {},
   "outputs": [
    {
     "data": {
      "text/plain": [
       "24"
      ]
     },
     "execution_count": 47,
     "metadata": {},
     "output_type": "execute_result"
    }
   ],
   "source": [
    "result_sum"
   ]
  },
  {
   "cell_type": "code",
   "execution_count": 2,
   "id": "0756fc12",
   "metadata": {},
   "outputs": [
    {
     "name": "stdout",
     "output_type": "stream",
     "text": [
      "yes\n"
     ]
    }
   ],
   "source": [
    "m='12321'\n",
    "if m==m[::-1]:\n",
    "    print('yes')\n",
    "else:\n",
    "    ('not')"
   ]
  },
  {
   "cell_type": "code",
   "execution_count": null,
   "id": "3c26c2bb",
   "metadata": {},
   "outputs": [],
   "source": [
    "n=3\n",
    "if(n!=2):\n",
    "    print(\"Weird\")\n",
    "for i in range (2,5) and (n==2) :\n",
    "    print(\"Not Weird\")\n",
    "    for  i in range (6,20) and (n==2) :\n",
    "        print(\" Weird\")\n",
    "    else: (n==2)and (n>20):\n",
    "        print(\"Not Weired\")"
   ]
  },
  {
   "cell_type": "code",
   "execution_count": null,
   "id": "ec3e04a4",
   "metadata": {},
   "outputs": [],
   "source": [
    "\n",
    "\n",
    "\n",
    "\n",
    "\n",
    "\n",
    "\n"
   ]
  },
  {
   "cell_type": "code",
   "execution_count": null,
   "id": "e27a4ac5",
   "metadata": {},
   "outputs": [],
   "source": []
  },
  {
   "cell_type": "code",
   "execution_count": null,
   "id": "7dda35ec",
   "metadata": {},
   "outputs": [],
   "source": []
  }
 ],
 "metadata": {
  "kernelspec": {
   "display_name": "Python 3 (ipykernel)",
   "language": "python",
   "name": "python3"
  },
  "language_info": {
   "codemirror_mode": {
    "name": "ipython",
    "version": 3
   },
   "file_extension": ".py",
   "mimetype": "text/x-python",
   "name": "python",
   "nbconvert_exporter": "python",
   "pygments_lexer": "ipython3",
   "version": "3.9.13"
  }
 },
 "nbformat": 4,
 "nbformat_minor": 5
}
