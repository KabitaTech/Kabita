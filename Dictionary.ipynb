{
 "cells": [
  {
   "cell_type": "markdown",
   "id": "deb6b688",
   "metadata": {},
   "source": [
    "# Dictionary"
   ]
  },
  {
   "cell_type": "code",
   "execution_count": 2,
   "id": "13eca1ff",
   "metadata": {},
   "outputs": [
    {
     "data": {
      "text/plain": [
       "'\\n1.same word repeted not allowed\\n2.word1= meaning \\n3. word2= meaning1, meaning2\\n4. word3,word4=meaning\\n'"
      ]
     },
     "execution_count": 2,
     "metadata": {},
     "output_type": "execute_result"
    }
   ],
   "source": [
    "'''\n",
    "1.same word repeted not allowed\n",
    "2.word1= meaning \n",
    "3. word2= meaning1, meaning2\n",
    "4. word3,word4=meaning\n",
    "'''\n"
   ]
  },
  {
   "cell_type": "code",
   "execution_count": 6,
   "id": "65d873cb",
   "metadata": {},
   "outputs": [
    {
     "data": {
      "text/plain": [
       "5"
      ]
     },
     "execution_count": 6,
     "metadata": {},
     "output_type": "execute_result"
    }
   ],
   "source": [
    "#dict1={key:value}\n",
    "dict1={1:'a',2:'B',3:'n',4:'o',5:'l'}\n",
    "len(dict1)\n"
   ]
  },
  {
   "cell_type": "code",
   "execution_count": 7,
   "id": "f8e85018",
   "metadata": {},
   "outputs": [
    {
     "data": {
      "text/plain": [
       "'B'"
      ]
     },
     "execution_count": 7,
     "metadata": {},
     "output_type": "execute_result"
    }
   ],
   "source": [
    "dict1[2]"
   ]
  },
  {
   "cell_type": "code",
   "execution_count": 18,
   "id": "3c57eafd",
   "metadata": {},
   "outputs": [
    {
     "data": {
      "text/plain": [
       "{'A': 45, 'B': 78, 'C': 90, 'D': 79, 'E': 55}"
      ]
     },
     "execution_count": 18,
     "metadata": {},
     "output_type": "execute_result"
    }
   ],
   "source": [
    "classroom={'A':45,'B':78,'C':90,'D':79,'E':55}\n",
    "classroom"
   ]
  },
  {
   "cell_type": "code",
   "execution_count": 20,
   "id": "7af42d67",
   "metadata": {},
   "outputs": [
    {
     "data": {
      "text/plain": [
       "90"
      ]
     },
     "execution_count": 20,
     "metadata": {},
     "output_type": "execute_result"
    }
   ],
   "source": [
    "classroom['C']"
   ]
  },
  {
   "cell_type": "code",
   "execution_count": 3,
   "id": "d16dc0c4",
   "metadata": {},
   "outputs": [
    {
     "data": {
      "text/plain": [
       "[['A', 66], ['B', 78], ['C', 55], ['D', 88]]"
      ]
     },
     "execution_count": 3,
     "metadata": {},
     "output_type": "execute_result"
    }
   ],
   "source": [
    "classroom_list=[['A',66],['B',78],['C',55],['D',88]]\n",
    "classroom_list"
   ]
  },
  {
   "cell_type": "code",
   "execution_count": 1,
   "id": "ce43c23a",
   "metadata": {},
   "outputs": [],
   "source": [
    "classroom={'A':66,'B':{'C':78,'K':89,'L':76},'C':55,'D':88,'E':55}\n",
    "\n"
   ]
  },
  {
   "cell_type": "code",
   "execution_count": 2,
   "id": "5582e786",
   "metadata": {},
   "outputs": [
    {
     "data": {
      "text/plain": [
       "55"
      ]
     },
     "execution_count": 2,
     "metadata": {},
     "output_type": "execute_result"
    }
   ],
   "source": [
    "classroom['C']"
   ]
  },
  {
   "cell_type": "code",
   "execution_count": 9,
   "id": "f5bb4f2c",
   "metadata": {},
   "outputs": [
    {
     "data": {
      "text/plain": [
       "dict_keys(['A', 'B', 'C', 'D', 'E'])"
      ]
     },
     "execution_count": 9,
     "metadata": {},
     "output_type": "execute_result"
    }
   ],
   "source": [
    "classroom.keys()"
   ]
  },
  {
   "cell_type": "code",
   "execution_count": 32,
   "id": "2e87c609",
   "metadata": {},
   "outputs": [
    {
     "data": {
      "text/plain": [
       "78"
      ]
     },
     "execution_count": 32,
     "metadata": {},
     "output_type": "execute_result"
    }
   ],
   "source": [
    "classroom['B']\n"
   ]
  },
  {
   "cell_type": "code",
   "execution_count": 3,
   "id": "b0393c07",
   "metadata": {},
   "outputs": [
    {
     "data": {
      "text/plain": [
       "array([0, 1, 1, 1, 1])"
      ]
     },
     "execution_count": 3,
     "metadata": {},
     "output_type": "execute_result"
    }
   ],
   "source": [
    "classroom={'A':45,'B':78,'C':90,'D':79,'E':55}\n",
    "import numpy as np\n",
    "a =np.array(list(classroom.values()))\n",
    "np.where(a>45, 1,0)"
   ]
  },
  {
   "cell_type": "code",
   "execution_count": 16,
   "id": "9738db50",
   "metadata": {},
   "outputs": [],
   "source": [
    "classroom ={'A1':{'C':78,'K':89,'L':76,'P':55,'D':88,'E':55},\n",
    "            'A2':{'C':90,'K':98,'L':77,'P':50,'D':84,'E':51}}"
   ]
  },
  {
   "cell_type": "code",
   "execution_count": 15,
   "id": "cde7a958",
   "metadata": {},
   "outputs": [
    {
     "data": {
      "text/plain": [
       "{'A': 45, 'B': 78, 'C': 90, 'D': 79, 'E': 55}"
      ]
     },
     "execution_count": 15,
     "metadata": {},
     "output_type": "execute_result"
    }
   ],
   "source": [
    "classroom \n",
    "\n"
   ]
  },
  {
   "cell_type": "code",
   "execution_count": 17,
   "id": "3b445296",
   "metadata": {},
   "outputs": [
    {
     "data": {
      "text/plain": [
       "76"
      ]
     },
     "execution_count": 17,
     "metadata": {},
     "output_type": "execute_result"
    }
   ],
   "source": [
    "classroom ['A1']['L']"
   ]
  },
  {
   "cell_type": "code",
   "execution_count": 20,
   "id": "b3675c01",
   "metadata": {},
   "outputs": [
    {
     "data": {
      "text/plain": [
       "{'A1': {'C': 78, 'K': 89, 'L': 76, 'P': 55, 'D': 88, 'E': 55},\n",
       " 'A2': {'C': 90, 'K': 98, 'L': 77, 'P': 50, 'D': 84, 'E': 51},\n",
       " 'new': 95}"
      ]
     },
     "execution_count": 20,
     "metadata": {},
     "output_type": "execute_result"
    }
   ],
   "source": [
    "classroom ['new']=95\n",
    "classroom\n",
    "\n"
   ]
  },
  {
   "cell_type": "code",
   "execution_count": 24,
   "id": "160108dd",
   "metadata": {},
   "outputs": [
    {
     "data": {
      "text/plain": [
       "dict_items([('C', 78), ('K', 89), ('L', 76), ('P', 55), ('D', 88), ('E', 55)])"
      ]
     },
     "execution_count": 24,
     "metadata": {},
     "output_type": "execute_result"
    }
   ],
   "source": [
    "classroom['A1'].items()"
   ]
  },
  {
   "cell_type": "code",
   "execution_count": 25,
   "id": "c1c661d8",
   "metadata": {},
   "outputs": [
    {
     "data": {
      "text/plain": [
       "dict_keys(['C', 'K', 'L', 'P', 'D', 'E'])"
      ]
     },
     "execution_count": 25,
     "metadata": {},
     "output_type": "execute_result"
    }
   ],
   "source": [
    "classroom['A2'].keys()"
   ]
  },
  {
   "cell_type": "code",
   "execution_count": 30,
   "id": "5ecdf1d3",
   "metadata": {},
   "outputs": [
    {
     "data": {
      "text/plain": [
       "dict_values([78, 89, 76, 55, 88, 55])"
      ]
     },
     "execution_count": 30,
     "metadata": {},
     "output_type": "execute_result"
    }
   ],
   "source": [
    "classroom['A1'].values()"
   ]
  },
  {
   "cell_type": "code",
   "execution_count": 36,
   "id": "98a74fd3",
   "metadata": {},
   "outputs": [
    {
     "data": {
      "text/plain": [
       "{'A1': {'C': 78, 'K': 89, 'L': 76, 'P': 55, 'D': 88, 'E': 55},\n",
       " 'A2': {'C': 90, 'K': 98, 'L': 77, 'P': 50, 'D': 84, 'E': 51},\n",
       " 'new': 95,\n",
       " 'W11': {'C': 70, 'K': 80, 'L': 20, 'P': 5, 'D': 8, 'E': 66},\n",
       " 'w2': {'C': 0, 'K': 9, 'L': 7, 'P': 5, 'D': 4, 'E': 13}}"
      ]
     },
     "execution_count": 36,
     "metadata": {},
     "output_type": "execute_result"
    }
   ],
   "source": [
    "marks={'W11': {'C': 70, 'K': 80, 'L':20, 'P': 5, 'D': 8, 'E': 66},\n",
    " 'w2': {'C': 0, 'K': 9, 'L': 7, 'P': 5, 'D': 4, 'E': 13},\n",
    " 'new': 95}\n",
    "classroom.update(marks)\n",
    "classroom"
   ]
  },
  {
   "cell_type": "code",
   "execution_count": 37,
   "id": "14e5b011",
   "metadata": {},
   "outputs": [
    {
     "data": {
      "text/plain": [
       "{'W11': {'C': 70, 'K': 80, 'L': 20, 'P': 5, 'D': 8, 'E': 66},\n",
       " 'w2': {'C': 0, 'K': 9, 'L': 7, 'P': 5, 'D': 4, 'E': 13},\n",
       " 'new': 95}"
      ]
     },
     "execution_count": 37,
     "metadata": {},
     "output_type": "execute_result"
    }
   ],
   "source": [
    "marks\n"
   ]
  },
  {
   "cell_type": "code",
   "execution_count": 38,
   "id": "a334a440",
   "metadata": {},
   "outputs": [],
   "source": [
    "classroom"
   ]
  },
  {
   "cell_type": "code",
   "execution_count": null,
   "id": "25561b36",
   "metadata": {},
   "outputs": [],
   "source": []
  },
  {
   "cell_type": "code",
   "execution_count": null,
   "id": "a4cc90df",
   "metadata": {},
   "outputs": [],
   "source": []
  }
 ],
 "metadata": {
  "kernelspec": {
   "display_name": "Python 3 (ipykernel)",
   "language": "python",
   "name": "python3"
  },
  "language_info": {
   "codemirror_mode": {
    "name": "ipython",
    "version": 3
   },
   "file_extension": ".py",
   "mimetype": "text/x-python",
   "name": "python",
   "nbconvert_exporter": "python",
   "pygments_lexer": "ipython3",
   "version": "3.9.13"
  }
 },
 "nbformat": 4,
 "nbformat_minor": 5
}
