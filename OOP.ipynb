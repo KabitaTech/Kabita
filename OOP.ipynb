{
 "cells": [
  {
   "cell_type": "code",
   "execution_count": 1,
   "id": "46427b2c",
   "metadata": {},
   "outputs": [],
   "source": [
    "#program 01"
   ]
  },
  {
   "cell_type": "code",
   "execution_count": 2,
   "id": "d0ed6fd2",
   "metadata": {},
   "outputs": [
    {
     "name": "stdout",
     "output_type": "stream",
     "text": [
      "black bMW \n",
      "black bMW \n"
     ]
    }
   ],
   "source": [
    "class car :\n",
    "    def features(self):\n",
    "        self.color=\"black\"\n",
    "        self.model =\"bMW \"\n",
    "        print(self.color,self.model )\n",
    "    def display(self):\n",
    "        print(self.color,self.model )\n",
    "car_obj=car()\n",
    "car_obj.features()\n",
    "car_obj.display()\n",
    "    "
   ]
  },
  {
   "cell_type": "code",
   "execution_count": 3,
   "id": "99977868",
   "metadata": {},
   "outputs": [],
   "source": [
    "#program 02"
   ]
  },
  {
   "cell_type": "code",
   "execution_count": 4,
   "id": "26eb6b69",
   "metadata": {},
   "outputs": [
    {
     "name": "stdout",
     "output_type": "stream",
     "text": [
      "Red  sleep\n",
      "Red  sleep\n"
     ]
    }
   ],
   "source": [
    "class animal :\n",
    "    def features(self):\n",
    "        self.color=\"Red\"\n",
    "        self.char =\" sleep\"\n",
    "        print(self.color,self.char )\n",
    "    def display(self):\n",
    "        print(self.color,self.char )\n",
    "animal_obj=animal()\n",
    "animal_obj.features()\n",
    "animal_obj.display()\n",
    "    "
   ]
  },
  {
   "cell_type": "code",
   "execution_count": 5,
   "id": "6d176445",
   "metadata": {},
   "outputs": [],
   "source": [
    "# program 03"
   ]
  },
  {
   "cell_type": "code",
   "execution_count": 25,
   "id": "062cc511",
   "metadata": {},
   "outputs": [
    {
     "ename": "NameError",
     "evalue": "name 'add' is not defined",
     "output_type": "error",
     "traceback": [
      "\u001b[1;31m---------------------------------------------------------------------------\u001b[0m",
      "\u001b[1;31mNameError\u001b[0m                                 Traceback (most recent call last)",
      "\u001b[1;32m~\\AppData\\Local\\Temp\\ipykernel_9488\\3033916568.py\u001b[0m in \u001b[0;36m<module>\u001b[1;34m\u001b[0m\n\u001b[1;32m----> 1\u001b[1;33m \u001b[1;32mclass\u001b[0m \u001b[0madd\u001b[0m\u001b[1;33m:\u001b[0m\u001b[1;33m\u001b[0m\u001b[1;33m\u001b[0m\u001b[0m\n\u001b[0m\u001b[0;32m      2\u001b[0m       \u001b[1;32mdef\u001b[0m \u001b[0maddition\u001b[0m \u001b[1;33m(\u001b[0m\u001b[0mself\u001b[0m\u001b[1;33m,\u001b[0m \u001b[0ma\u001b[0m\u001b[1;33m,\u001b[0m \u001b[0mb\u001b[0m\u001b[1;33m)\u001b[0m\u001b[1;33m:\u001b[0m\u001b[1;33m\u001b[0m\u001b[1;33m\u001b[0m\u001b[0m\n\u001b[0;32m      3\u001b[0m           \u001b[1;32mreturn\u001b[0m \u001b[0ma\u001b[0m\u001b[1;33m+\u001b[0m\u001b[0mb\u001b[0m\u001b[1;33m\u001b[0m\u001b[1;33m\u001b[0m\u001b[0m\n\u001b[0;32m      4\u001b[0m \u001b[1;33m\u001b[0m\u001b[0m\n\u001b[0;32m      5\u001b[0m       \u001b[0madd_obj\u001b[0m\u001b[1;33m=\u001b[0m\u001b[0madd\u001b[0m\u001b[1;33m(\u001b[0m\u001b[1;33m)\u001b[0m\u001b[1;33m\u001b[0m\u001b[1;33m\u001b[0m\u001b[0m\n",
      "\u001b[1;32m~\\AppData\\Local\\Temp\\ipykernel_9488\\3033916568.py\u001b[0m in \u001b[0;36madd\u001b[1;34m()\u001b[0m\n\u001b[0;32m      3\u001b[0m           \u001b[1;32mreturn\u001b[0m \u001b[0ma\u001b[0m\u001b[1;33m+\u001b[0m\u001b[0mb\u001b[0m\u001b[1;33m\u001b[0m\u001b[1;33m\u001b[0m\u001b[0m\n\u001b[0;32m      4\u001b[0m \u001b[1;33m\u001b[0m\u001b[0m\n\u001b[1;32m----> 5\u001b[1;33m       \u001b[0madd_obj\u001b[0m\u001b[1;33m=\u001b[0m\u001b[0madd\u001b[0m\u001b[1;33m(\u001b[0m\u001b[1;33m)\u001b[0m\u001b[1;33m\u001b[0m\u001b[1;33m\u001b[0m\u001b[0m\n\u001b[0m\u001b[0;32m      6\u001b[0m \u001b[1;33m\u001b[0m\u001b[0m\n\u001b[0;32m      7\u001b[0m       \u001b[0mprint\u001b[0m\u001b[1;33m(\u001b[0m\u001b[0madd_obj\u001b[0m\u001b[1;33m.\u001b[0m\u001b[0maddition\u001b[0m\u001b[1;33m(\u001b[0m\u001b[1;36m7\u001b[0m\u001b[1;33m,\u001b[0m\u001b[1;36m5\u001b[0m\u001b[1;33m)\u001b[0m\u001b[1;33m)\u001b[0m\u001b[1;33m\u001b[0m\u001b[1;33m\u001b[0m\u001b[0m\n",
      "\u001b[1;31mNameError\u001b[0m: name 'add' is not defined"
     ]
    }
   ],
   "source": [
    "  class add:\n",
    "        def addition (self, a, b):\n",
    "            return a+b\n",
    "\n",
    "        add_obj=add()\n",
    "\n",
    "        print(add_obj.addition(7,5))  "
   ]
  },
  {
   "cell_type": "code",
   "execution_count": null,
   "id": "cf76f89e",
   "metadata": {},
   "outputs": [],
   "source": [
    "class addit :\n",
    "    def addition (self,a,b):\n",
    "        return a+b\n",
    "    def substraction (self,a,b):\n",
    "        return a-b"
   ]
  },
  {
   "cell_type": "code",
   "execution_count": null,
   "id": "e73b1a43",
   "metadata": {},
   "outputs": [],
   "source": [
    "class add : \n",
    "    def addition (self ,a,b):\n",
    "        return a+b\n",
    "    add_obj=add()\n",
    "    print(add_obj.addition(4,7))"
   ]
  },
  {
   "cell_type": "code",
   "execution_count": null,
   "id": "32346826",
   "metadata": {},
   "outputs": [],
   "source": [
    "#!python module.py    # creating another file"
   ]
  },
  {
   "cell_type": "code",
   "execution_count": null,
   "id": "c2c70796",
   "metadata": {},
   "outputs": [],
   "source": [
    "from module import addition \n",
    "addition (5,6)"
   ]
  },
  {
   "cell_type": "code",
   "execution_count": null,
   "id": "781a796b",
   "metadata": {},
   "outputs": [],
   "source": [
    "from module import substraction  \n",
    "substraction  (8,6)"
   ]
  },
  {
   "cell_type": "code",
   "execution_count": null,
   "id": "68de37f1",
   "metadata": {},
   "outputs": [],
   "source": []
  }
 ],
 "metadata": {
  "kernelspec": {
   "display_name": "Python 3 (ipykernel)",
   "language": "python",
   "name": "python3"
  },
  "language_info": {
   "codemirror_mode": {
    "name": "ipython",
    "version": 3
   },
   "file_extension": ".py",
   "mimetype": "text/x-python",
   "name": "python",
   "nbconvert_exporter": "python",
   "pygments_lexer": "ipython3",
   "version": "3.9.13"
  }
 },
 "nbformat": 4,
 "nbformat_minor": 5
}
