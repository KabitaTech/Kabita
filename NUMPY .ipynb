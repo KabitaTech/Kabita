{
 "cells": [
  {
   "cell_type": "code",
   "execution_count": 1,
   "id": "03a9c73e",
   "metadata": {},
   "outputs": [],
   "source": [
    "import numpy as np"
   ]
  },
  {
   "cell_type": "code",
   "execution_count": 2,
   "id": "d08bf2ee",
   "metadata": {},
   "outputs": [
    {
     "data": {
      "text/plain": [
       "array([3, 5, 6, 7, 8])"
      ]
     },
     "execution_count": 2,
     "metadata": {},
     "output_type": "execute_result"
    }
   ],
   "source": [
    "np. array ([3,5,6,7,8])"
   ]
  },
  {
   "cell_type": "code",
   "execution_count": 3,
   "id": "e7b26a2c",
   "metadata": {},
   "outputs": [
    {
     "data": {
      "text/plain": [
       "array([[0., 0., 0., 0.],\n",
       "       [0., 0., 0., 0.],\n",
       "       [0., 0., 0., 0.]])"
      ]
     },
     "execution_count": 3,
     "metadata": {},
     "output_type": "execute_result"
    }
   ],
   "source": [
    "import numpy as np\n",
    "np.zeros([3,4])"
   ]
  },
  {
   "cell_type": "code",
   "execution_count": 4,
   "id": "9cabe763",
   "metadata": {},
   "outputs": [
    {
     "data": {
      "text/plain": [
       "array([[1., 1., 1., 1.],\n",
       "       [1., 1., 1., 1.],\n",
       "       [1., 1., 1., 1.]])"
      ]
     },
     "execution_count": 4,
     "metadata": {},
     "output_type": "execute_result"
    }
   ],
   "source": [
    "np.ones([3,4])"
   ]
  },
  {
   "cell_type": "code",
   "execution_count": 5,
   "id": "261f64e7",
   "metadata": {},
   "outputs": [
    {
     "data": {
      "text/plain": [
       "array([15.        , 14.58333333, 14.16666667, 13.75      , 13.33333333,\n",
       "       12.91666667, 12.5       , 12.08333333, 11.66666667, 11.25      ,\n",
       "       10.83333333, 10.41666667, 10.        ,  9.58333333,  9.16666667,\n",
       "        8.75      ,  8.33333333,  7.91666667,  7.5       ,  7.08333333,\n",
       "        6.66666667,  6.25      ,  5.83333333,  5.41666667,  5.        ])"
      ]
     },
     "execution_count": 5,
     "metadata": {},
     "output_type": "execute_result"
    }
   ],
   "source": [
    "np.linspace(15,5,25)"
   ]
  },
  {
   "cell_type": "code",
   "execution_count": 6,
   "id": "9c75d9ea",
   "metadata": {},
   "outputs": [
    {
     "data": {
      "text/plain": [
       "array([10, 23, 36, 49, 62])"
      ]
     },
     "execution_count": 6,
     "metadata": {},
     "output_type": "execute_result"
    }
   ],
   "source": [
    "import numpy as np \n",
    "np.arange (10,65,13)"
   ]
  },
  {
   "cell_type": "code",
   "execution_count": 7,
   "id": "369ea2ea",
   "metadata": {},
   "outputs": [
    {
     "data": {
      "text/plain": [
       "array([[8, 8, 8, 8, 8, 8, 8, 8],\n",
       "       [8, 8, 8, 8, 8, 8, 8, 8],\n",
       "       [8, 8, 8, 8, 8, 8, 8, 8],\n",
       "       [8, 8, 8, 8, 8, 8, 8, 8],\n",
       "       [8, 8, 8, 8, 8, 8, 8, 8],\n",
       "       [8, 8, 8, 8, 8, 8, 8, 8]])"
      ]
     },
     "execution_count": 7,
     "metadata": {},
     "output_type": "execute_result"
    }
   ],
   "source": [
    "import numpy as np \n",
    "np.full((6,8),8)"
   ]
  },
  {
   "cell_type": "code",
   "execution_count": 8,
   "id": "93356b16",
   "metadata": {},
   "outputs": [
    {
     "name": "stdout",
     "output_type": "stream",
     "text": [
      "24\n"
     ]
    }
   ],
   "source": [
    "a=np.arange(24)\n",
    "print(a.size )"
   ]
  },
  {
   "cell_type": "code",
   "execution_count": 2,
   "id": "5dc42631",
   "metadata": {},
   "outputs": [
    {
     "data": {
      "text/plain": [
       "array([[5.92167901e-01, 3.27229350e-01, 5.81998248e-01, 8.49337423e-01,\n",
       "        9.43890269e-01, 9.70123247e-01],\n",
       "       [6.31970824e-01, 1.57423954e-01, 9.46844051e-01, 4.42938894e-01,\n",
       "        1.19020066e-01, 5.77813970e-01],\n",
       "       [5.09008350e-01, 7.10936021e-01, 8.70875396e-01, 5.87727149e-01,\n",
       "        8.25293952e-01, 9.57146455e-01],\n",
       "       [3.95326418e-01, 7.97663016e-01, 6.88366341e-01, 2.25609758e-01,\n",
       "        8.37785997e-01, 4.83361143e-01],\n",
       "       [2.21006901e-04, 3.22704564e-01, 3.74567748e-01, 6.49557518e-01,\n",
       "        1.99614263e-01, 4.69520776e-01],\n",
       "       [9.94006946e-01, 8.52109899e-01, 7.94749486e-01, 4.19332234e-01,\n",
       "        4.48744150e-01, 3.44852597e-01]])"
      ]
     },
     "execution_count": 2,
     "metadata": {},
     "output_type": "execute_result"
    }
   ],
   "source": [
    "import numpy as np\n",
    "np.random.random((6,6))"
   ]
  },
  {
   "cell_type": "code",
   "execution_count": 4,
   "id": "6b7884cc",
   "metadata": {},
   "outputs": [
    {
     "name": "stdout",
     "output_type": "stream",
     "text": [
      "24\n",
      "float64\n"
     ]
    },
    {
     "data": {
      "text/plain": [
       "array([[[ 0.,  1.],\n",
       "        [ 2.,  3.],\n",
       "        [ 4.,  5.],\n",
       "        [ 6.,  7.]],\n",
       "\n",
       "       [[ 8.,  9.],\n",
       "        [10., 11.],\n",
       "        [12., 13.],\n",
       "        [14., 15.]],\n",
       "\n",
       "       [[16., 17.],\n",
       "        [18., 19.],\n",
       "        [20., 21.],\n",
       "        [22., 23.]]])"
      ]
     },
     "execution_count": 4,
     "metadata": {},
     "output_type": "execute_result"
    }
   ],
   "source": [
    "import numpy as np\n",
    "a=np.arange (24,dtype= float)\n",
    "print(a.size)\n",
    "print(a.dtype)\n",
    "\n",
    "b= a.reshape(3,4,2)\n",
    "b\n",
    "\n",
    "\n",
    "\n",
    "\n"
   ]
  },
  {
   "cell_type": "code",
   "execution_count": 5,
   "id": "c7f510b7",
   "metadata": {},
   "outputs": [
    {
     "data": {
      "text/plain": [
       "17"
      ]
     },
     "execution_count": 5,
     "metadata": {},
     "output_type": "execute_result"
    }
   ],
   "source": [
    "import numpy as np \n",
    "np. sum([8,9])"
   ]
  },
  {
   "cell_type": "code",
   "execution_count": 6,
   "id": "522ee8be",
   "metadata": {},
   "outputs": [
    {
     "data": {
      "text/plain": [
       "30"
      ]
     },
     "execution_count": 6,
     "metadata": {},
     "output_type": "execute_result"
    }
   ],
   "source": [
    "a,b =10,20\n",
    "np.sum([a,b])"
   ]
  },
  {
   "cell_type": "code",
   "execution_count": 7,
   "id": "809cee03",
   "metadata": {},
   "outputs": [
    {
     "data": {
      "text/plain": [
       "array([4, 7])"
      ]
     },
     "execution_count": 7,
     "metadata": {},
     "output_type": "execute_result"
    }
   ],
   "source": [
    "import numpy as np\n",
    "np.hstack(())"
   ]
  },
  {
   "cell_type": "code",
   "execution_count": null,
   "id": "a24fbe69",
   "metadata": {},
   "outputs": [],
   "source": []
  }
 ],
 "metadata": {
  "kernelspec": {
   "display_name": "Python 3 (ipykernel)",
   "language": "python",
   "name": "python3"
  },
  "language_info": {
   "codemirror_mode": {
    "name": "ipython",
    "version": 3
   },
   "file_extension": ".py",
   "mimetype": "text/x-python",
   "name": "python",
   "nbconvert_exporter": "python",
   "pygments_lexer": "ipython3",
   "version": "3.9.13"
  }
 },
 "nbformat": 4,
 "nbformat_minor": 5
}
