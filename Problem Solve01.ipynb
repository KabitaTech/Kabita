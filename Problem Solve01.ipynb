{
 "cells": [
  {
   "cell_type": "code",
   "execution_count": 1,
   "id": "520fcf9b",
   "metadata": {},
   "outputs": [],
   "source": [
    "#write a python  program to check  alist is empty or not "
   ]
  },
  {
   "cell_type": "code",
   "execution_count": 2,
   "id": "259ab90b",
   "metadata": {},
   "outputs": [
    {
     "name": "stdout",
     "output_type": "stream",
     "text": [
      "have value\n"
     ]
    }
   ],
   "source": [
    "list1=[4,5]\n",
    "if len(list1)>0:\n",
    "    print('have value')\n",
    "else:\n",
    "    print(\" have empty\")"
   ]
  },
  {
   "cell_type": "code",
   "execution_count": 3,
   "id": "838562d7",
   "metadata": {},
   "outputs": [],
   "source": [
    "# write a python to a specified program  to print a specified list after removed the 0th , 4th , 5th elements"
   ]
  },
  {
   "cell_type": "code",
   "execution_count": 4,
   "id": "151e905b",
   "metadata": {},
   "outputs": [
    {
     "data": {
      "text/plain": [
       "['orange', 'green', 'blue']"
      ]
     },
     "execution_count": 4,
     "metadata": {},
     "output_type": "execute_result"
    }
   ],
   "source": [
    "color=[\"red\",'orange','green','blue','violet','pink']\n",
    "new_color=color.copy()\n",
    "\n",
    "for (i,x) in enumerate(new_color):\n",
    "        if i in (0,4,5):\n",
    "              color.remove(x)\n",
    "\n",
    "color\n"
   ]
  },
  {
   "cell_type": "code",
   "execution_count": 5,
   "id": "6e839a71",
   "metadata": {},
   "outputs": [],
   "source": [
    "#write apython program to  generate  346 3D Array "
   ]
  },
  {
   "cell_type": "code",
   "execution_count": 6,
   "id": "e697e2f4",
   "metadata": {},
   "outputs": [
    {
     "data": {
      "text/plain": [
       "[['******', '******', '******', '******'],\n",
       " ['******', '******', '******', '******'],\n",
       " ['******', '******', '******', '******']]"
      ]
     },
     "execution_count": 6,
     "metadata": {},
     "output_type": "execute_result"
    }
   ],
   "source": [
    "[['*'*6]*4]*3"
   ]
  },
  {
   "cell_type": "code",
   "execution_count": 7,
   "id": "e4d2d5e7",
   "metadata": {},
   "outputs": [
    {
     "data": {
      "text/plain": [
       "[[['*', '*', '*', '*', '*', '*'],\n",
       "  ['*', '*', '*', '*', '*', '*'],\n",
       "  ['*', '*', '*', '*', '*', '*'],\n",
       "  ['*', '*', '*', '*', '*', '*']],\n",
       " [['*', '*', '*', '*', '*', '*'],\n",
       "  ['*', '*', '*', '*', '*', '*'],\n",
       "  ['*', '*', '*', '*', '*', '*'],\n",
       "  ['*', '*', '*', '*', '*', '*']],\n",
       " [['*', '*', '*', '*', '*', '*'],\n",
       "  ['*', '*', '*', '*', '*', '*'],\n",
       "  ['*', '*', '*', '*', '*', '*'],\n",
       "  ['*', '*', '*', '*', '*', '*']]]"
      ]
     },
     "execution_count": 7,
     "metadata": {},
     "output_type": "execute_result"
    }
   ],
   "source": [
    "[[list('*'*6)]*4]*3"
   ]
  },
  {
   "cell_type": "code",
   "execution_count": 8,
   "id": "b673d967",
   "metadata": {},
   "outputs": [
    {
     "data": {
      "text/plain": [
       "[[['*', '*', '*', '*', '*', '*'],\n",
       "  ['*', '*', '*', '*', '*', '*'],\n",
       "  ['*', '*', '*', '*', '*', '*'],\n",
       "  ['*', '*', '*', '*', '*', '*'],\n",
       "  ['*', '*', '*', '*', '*', '*']],\n",
       " [['*', '*', '*', '*', '*', '*'],\n",
       "  ['*', '*', '*', '*', '*', '*'],\n",
       "  ['*', '*', '*', '*', '*', '*'],\n",
       "  ['*', '*', '*', '*', '*', '*'],\n",
       "  ['*', '*', '*', '*', '*', '*']],\n",
       " [['*', '*', '*', '*', '*', '*'],\n",
       "  ['*', '*', '*', '*', '*', '*'],\n",
       "  ['*', '*', '*', '*', '*', '*'],\n",
       "  ['*', '*', '*', '*', '*', '*'],\n",
       "  ['*', '*', '*', '*', '*', '*']],\n",
       " [['*', '*', '*', '*', '*', '*'],\n",
       "  ['*', '*', '*', '*', '*', '*'],\n",
       "  ['*', '*', '*', '*', '*', '*'],\n",
       "  ['*', '*', '*', '*', '*', '*'],\n",
       "  ['*', '*', '*', '*', '*', '*']]]"
      ]
     },
     "execution_count": 8,
     "metadata": {},
     "output_type": "execute_result"
    }
   ],
   "source": [
    "[[list('*'*6)]*5]*4   #self practise"
   ]
  },
  {
   "cell_type": "code",
   "execution_count": 9,
   "id": "b95786cb",
   "metadata": {},
   "outputs": [],
   "source": [
    "#write apython program to specifed list after removing evden number"
   ]
  },
  {
   "cell_type": "code",
   "execution_count": 10,
   "id": "1c5dbc14",
   "metadata": {},
   "outputs": [
    {
     "name": "stdout",
     "output_type": "stream",
     "text": [
      "23\n",
      "23\n",
      "45\n",
      "47\n",
      "49\n",
      "59\n"
     ]
    }
   ],
   "source": [
    "x=[22,23,23,24,44,45,46,47,48,49,59]\n",
    "for i in x :\n",
    "    if i %2!=0:\n",
    "        print(i)"
   ]
  },
  {
   "cell_type": "code",
   "execution_count": 11,
   "id": "dbfcc95f",
   "metadata": {},
   "outputs": [],
   "source": [
    "#write a python program to generate a list except for the first 5 elements range(1-30)"
   ]
  },
  {
   "cell_type": "code",
   "execution_count": 14,
   "id": "110bbca7",
   "metadata": {},
   "outputs": [
    {
     "data": {
      "text/plain": [
       "[36,\n",
       " 49,\n",
       " 64,\n",
       " 81,\n",
       " 100,\n",
       " 121,\n",
       " 144,\n",
       " 169,\n",
       " 196,\n",
       " 225,\n",
       " 256,\n",
       " 289,\n",
       " 324,\n",
       " 361,\n",
       " 400,\n",
       " 441,\n",
       " 484,\n",
       " 529,\n",
       " 576,\n",
       " 625,\n",
       " 676,\n",
       " 729,\n",
       " 784,\n",
       " 841]"
      ]
     },
     "execution_count": 14,
     "metadata": {},
     "output_type": "execute_result"
    }
   ],
   "source": [
    "list1= list(range(1,30))\n",
    "for i,j in enumerate (list1):\n",
    "    list1[i]=j*j\n",
    "    \n",
    "    \n",
    "\n",
    "list1[5:]"
   ]
  },
  {
   "cell_type": "code",
   "execution_count": 13,
   "id": "13595288",
   "metadata": {},
   "outputs": [
    {
     "data": {
      "text/plain": [
       "[1,\n",
       " 4,\n",
       " 9,\n",
       " 16,\n",
       " 25,\n",
       " 36,\n",
       " 49,\n",
       " 64,\n",
       " 81,\n",
       " 100,\n",
       " 121,\n",
       " 144,\n",
       " 169,\n",
       " 196,\n",
       " 225,\n",
       " 256,\n",
       " 289,\n",
       " 324,\n",
       " 361,\n",
       " 400,\n",
       " 441,\n",
       " 484,\n",
       " 529,\n",
       " 576,\n",
       " 625,\n",
       " 676,\n",
       " 729,\n",
       " 784,\n",
       " 841]"
      ]
     },
     "execution_count": 13,
     "metadata": {},
     "output_type": "execute_result"
    }
   ],
   "source": [
    "list1"
   ]
  },
  {
   "cell_type": "code",
   "execution_count": 15,
   "id": "f9abc5f0",
   "metadata": {},
   "outputs": [],
   "source": [
    "#flatten list from sublist"
   ]
  },
  {
   "cell_type": "code",
   "execution_count": 27,
   "id": "4f483064",
   "metadata": {},
   "outputs": [],
   "source": [
    "original_list=[[7,8],[5,6]]\n",
    "flatten_list=[[8,9],[7,5]]\n",
    "for sub_list in original_list:\n",
    "    for ele in sub_list:\n",
    "         flatten_list.append(ele)\n",
    "   "
   ]
  },
  {
   "cell_type": "code",
   "execution_count": 26,
   "id": "799f571b",
   "metadata": {},
   "outputs": [
    {
     "data": {
      "text/plain": [
       "[[8, 9], [7, 5], 7, 8, 5, 6]"
      ]
     },
     "execution_count": 26,
     "metadata": {},
     "output_type": "execute_result"
    }
   ],
   "source": [
    "flatten_list"
   ]
  },
  {
   "cell_type": "code",
   "execution_count": 41,
   "id": "c680ff73",
   "metadata": {},
   "outputs": [
    {
     "name": "stdout",
     "output_type": "stream",
     "text": [
      "[3 5 8 9]\n"
     ]
    }
   ],
   "source": [
    "import numpy as np\n",
    "gfg= np.array ([[3,5],[8,9]])\n",
    "flat_gfg=gfg.flatten()\n",
    "print(flat_gfg)"
   ]
  },
  {
   "cell_type": "code",
   "execution_count": 42,
   "id": "b774c11d",
   "metadata": {},
   "outputs": [],
   "source": [
    "#find a armstrong number "
   ]
  },
  {
   "cell_type": "code",
   "execution_count": 55,
   "id": "3da597fe",
   "metadata": {},
   "outputs": [
    {
     "name": "stdout",
     "output_type": "stream",
     "text": [
      "153\n",
      "Armstrong\n"
     ]
    }
   ],
   "source": [
    "n = input()\n",
    "sum1= 0\n",
    "for digit in n:\n",
    "    sum1= sum1 + (int(digit)**3)\n",
    "    \n",
    "if sum1==int(n):\n",
    "    print(\"Armstrong\")\n",
    "else:\n",
    "     print(\"not Armstrong\")\n",
    "       "
   ]
  },
  {
   "cell_type": "code",
   "execution_count": 56,
   "id": "13e31c9f",
   "metadata": {},
   "outputs": [],
   "source": [
    "#fibonaccci"
   ]
  },
  {
   "cell_type": "code",
   "execution_count": 68,
   "id": "61951151",
   "metadata": {},
   "outputs": [
    {
     "name": "stdout",
     "output_type": "stream",
     "text": [
      "1\n",
      "2\n",
      "3\n",
      "5\n",
      "8\n",
      "13\n",
      "21\n",
      "34\n"
     ]
    }
   ],
   "source": [
    "n=10\n",
    "a=0\n",
    "b=1\n",
    "  # print (a,b,end='')\n",
    "for i in range (n-2):\n",
    "    c=a+b\n",
    "    print (c)\n",
    "    a=b\n",
    "    b=c\n"
   ]
  },
  {
   "cell_type": "code",
   "execution_count": 73,
   "id": "48060098",
   "metadata": {},
   "outputs": [
    {
     "data": {
      "text/plain": [
       "80"
      ]
     },
     "execution_count": 73,
     "metadata": {},
     "output_type": "execute_result"
    }
   ],
   "source": [
    "def summation ():\n",
    "    a=20\n",
    "    b=60\n",
    "    c=a+b\n",
    "    return c\n",
    "summation()"
   ]
  },
  {
   "cell_type": "code",
   "execution_count": 79,
   "id": "4c69dc7e",
   "metadata": {},
   "outputs": [
    {
     "data": {
      "text/plain": [
       "56"
      ]
     },
     "execution_count": 79,
     "metadata": {},
     "output_type": "execute_result"
    }
   ],
   "source": [
    "def  multiplication():\n",
    "    a=7\n",
    "    b=8\n",
    "    c=(a*b)\n",
    "    return c\n",
    "multiplication()"
   ]
  },
  {
   "cell_type": "code",
   "execution_count": null,
   "id": "d8ba63a1",
   "metadata": {},
   "outputs": [],
   "source": []
  }
 ],
 "metadata": {
  "kernelspec": {
   "display_name": "Python 3 (ipykernel)",
   "language": "python",
   "name": "python3"
  },
  "language_info": {
   "codemirror_mode": {
    "name": "ipython",
    "version": 3
   },
   "file_extension": ".py",
   "mimetype": "text/x-python",
   "name": "python",
   "nbconvert_exporter": "python",
   "pygments_lexer": "ipython3",
   "version": "3.9.13"
  }
 },
 "nbformat": 4,
 "nbformat_minor": 5
}
