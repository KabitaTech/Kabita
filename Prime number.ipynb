{
 "cells": [
  {
   "cell_type": "code",
   "execution_count": 12,
   "id": "355eb12f",
   "metadata": {},
   "outputs": [
    {
     "name": "stdout",
     "output_type": "stream",
     "text": [
      "\n",
      "1, \n",
      "1, 2, \n",
      "1, 2, 3, \n",
      "1, 2, 3, 4, \n"
     ]
    }
   ],
   "source": [
    "for v in range(1,6):\n",
    "    s = str(list(range(1,v+1)))\n",
    "    print(s[1:-2])\n",
    "    \n"
   ]
  },
  {
   "cell_type": "code",
   "execution_count": 13,
   "id": "2243471d",
   "metadata": {},
   "outputs": [
    {
     "name": "stdout",
     "output_type": "stream",
     "text": [
      "1\n",
      "12\n",
      "123\n",
      "1234\n",
      "12345\n"
     ]
    }
   ],
   "source": [
    "for v in range(1,6):\n",
    "    s = str(list(range(1,v+1)))\n",
    "    print(s[1:-1].replace(', ',''))\n",
    "    "
   ]
  },
  {
   "cell_type": "code",
   "execution_count": 14,
   "id": "f01159ad",
   "metadata": {
    "scrolled": true
   },
   "outputs": [
    {
     "name": "stdout",
     "output_type": "stream",
     "text": [
      "1\n",
      "12\n",
      "123\n",
      "1234\n",
      "12345\n",
      "123456\n",
      "1234567\n",
      "12345678\n",
      "123456789\n"
     ]
    }
   ],
   "source": [
    "for v in range(1,10):\n",
    "    s = str(list(range(1,v+1)))\n",
    "    print(s[1:-1].replace(', ',''))\n",
    "    "
   ]
  },
  {
   "cell_type": "code",
   "execution_count": 18,
   "id": "d45fe9b5",
   "metadata": {},
   "outputs": [
    {
     "name": "stdout",
     "output_type": "stream",
     "text": [
      "\n",
      "1, \n",
      "1, 2, \n",
      "1, 2, 3, \n",
      "1, 2, 3, 4, \n",
      "1, 2, 3, 4, 5, \n",
      "1, 2, 3, 4, 5, 6, \n",
      "1, 2, 3, 4, 5, 6, 7, \n",
      "1, 2, 3, 4, 5, 6, 7, 8, \n"
     ]
    }
   ],
   "source": [
    "for v in range(1,10):\n",
    "    s = str(list(range(1,v+1)))\n",
    "    print(s[1:-2])"
   ]
  },
  {
   "cell_type": "code",
   "execution_count": 3,
   "id": "c5b312ae",
   "metadata": {},
   "outputs": [],
   "source": [
    "#how  to detect a number is prime or not"
   ]
  },
  {
   "cell_type": "code",
   "execution_count": 4,
   "id": "d30b087b",
   "metadata": {},
   "outputs": [
    {
     "name": "stdout",
     "output_type": "stream",
     "text": [
      "13 is a prime number \n"
     ]
    }
   ],
   "source": [
    "num= 13\n",
    "if num ==1:\n",
    "       print (num ,\" is  not a prime number :\")\n",
    "elif num > 1:\n",
    "    for i in range ( 2 , num): \n",
    "        if (num% i )==0:\n",
    "            print ( num, \"is not a prime number\" )\n",
    "          \n",
    "            break\n",
    "    else:\n",
    "        print (num,\"is a prime number \") \n",
    "            \n",
    "            \n",
    "else:\n",
    "      print (num,\"is a not a prime number \")"
   ]
  },
  {
   "cell_type": "code",
   "execution_count": 5,
   "id": "de106206",
   "metadata": {},
   "outputs": [
    {
     "data": {
      "text/plain": [
       "[1, 2, 3, 4]"
      ]
     },
     "execution_count": 5,
     "metadata": {},
     "output_type": "execute_result"
    }
   ],
   "source": [
    "list(range(1,5))"
   ]
  },
  {
   "cell_type": "code",
   "execution_count": 6,
   "id": "f7013217",
   "metadata": {},
   "outputs": [
    {
     "name": "stdout",
     "output_type": "stream",
     "text": [
      "Prime\n"
     ]
    }
   ],
   "source": [
    "result = 'Prime'\n",
    "\n",
    "n= 73\n",
    "for  _possible_factor in range(2,n):\n",
    "    if n%_possible_factor == 0 :\n",
    "        result = 'Non Prime'\n",
    "        break\n",
    "        \n",
    "        \n",
    "print(result)"
   ]
  },
  {
   "cell_type": "code",
   "execution_count": 7,
   "id": "35de6c46",
   "metadata": {},
   "outputs": [
    {
     "name": "stdout",
     "output_type": "stream",
     "text": [
      "Prime\n"
     ]
    }
   ],
   "source": [
    "\n",
    "result = 'Prime'\n",
    "\n",
    "n= 8\n",
    "possible_factor = 2\n",
    "while(_possible_factor<n):\n",
    "    if n%possible_factor == 0 :\n",
    "        result = 'NoT Prime'\n",
    "        break\n",
    "    possible_factor = possible_factor+1\n",
    "        \n",
    "        \n",
    "print(result)"
   ]
  },
  {
   "cell_type": "code",
   "execution_count": 8,
   "id": "0d9baf48",
   "metadata": {},
   "outputs": [
    {
     "data": {
      "text/plain": [
       "[1, 2]"
      ]
     },
     "execution_count": 8,
     "metadata": {},
     "output_type": "execute_result"
    }
   ],
   "source": [
    "list(range(1,3))"
   ]
  },
  {
   "cell_type": "code",
   "execution_count": 9,
   "id": "4137a388",
   "metadata": {},
   "outputs": [
    {
     "data": {
      "text/plain": [
       "'ababababababaab'"
      ]
     },
     "execution_count": 9,
     "metadata": {},
     "output_type": "execute_result"
    }
   ],
   "source": [
    "s='ababababrabrabarabr'\n",
    "s.replace('r','')"
   ]
  },
  {
   "cell_type": "code",
   "execution_count": 10,
   "id": "5b297389",
   "metadata": {},
   "outputs": [
    {
     "data": {
      "text/plain": [
       "'babababrabrabarab'"
      ]
     },
     "execution_count": 10,
     "metadata": {},
     "output_type": "execute_result"
    }
   ],
   "source": [
    "\n",
    "s[1:-1].replace(', ','')"
   ]
  },
  {
   "cell_type": "code",
   "execution_count": 11,
   "id": "803e76a5",
   "metadata": {},
   "outputs": [
    {
     "data": {
      "text/plain": [
       "'234568'"
      ]
     },
     "execution_count": 11,
     "metadata": {},
     "output_type": "execute_result"
    }
   ],
   "source": [
    "c=\"12345686\"\n",
    "c[1:-1].replace(', ','')"
   ]
  },
  {
   "cell_type": "code",
   "execution_count": 19,
   "id": "a2096841",
   "metadata": {},
   "outputs": [
    {
     "data": {
      "text/plain": [
       "'123456789'"
      ]
     },
     "execution_count": 19,
     "metadata": {},
     "output_type": "execute_result"
    }
   ],
   "source": [
    "s[1:-1].replace(', ','')"
   ]
  },
  {
   "cell_type": "code",
   "execution_count": 20,
   "id": "e3f2f401",
   "metadata": {},
   "outputs": [],
   "source": [
    "#Fibonacci determine"
   ]
  },
  {
   "cell_type": "code",
   "execution_count": 24,
   "id": "335598b6",
   "metadata": {},
   "outputs": [
    {
     "name": "stdout",
     "output_type": "stream",
     "text": [
      "Enter the number: 13\n",
      " Fibonacci number\n"
     ]
    }
   ],
   "source": [
    "n=int(input(\"Enter the number: \"))\n",
    "c=0\n",
    "a=1\n",
    "b=1\n",
    "if n==0 or n==1:\n",
    "    print(\"Yes Fibonacci \")\n",
    "else:\n",
    "    while c<n:\n",
    "        c=a+b\n",
    "        b=a\n",
    "        a=c\n",
    "    if c==n:\n",
    "        print(\" Fibonacci number\")\n",
    "    else:\n",
    "        print(\"Not Fibonacci \")"
   ]
  },
  {
   "cell_type": "code",
   "execution_count": 25,
   "id": "c50d9282",
   "metadata": {},
   "outputs": [],
   "source": [
    "#Armstrong Number"
   ]
  },
  {
   "cell_type": "code",
   "execution_count": 26,
   "id": "0c877fd5",
   "metadata": {},
   "outputs": [
    {
     "name": "stdout",
     "output_type": "stream",
     "text": [
      "Enter a number: 13\n",
      "13 is not an Armstrong number\n"
     ]
    }
   ],
   "source": [
    "num = int(input(\"Enter a number: \"))\n",
    "\n",
    "sum = 0\n",
    "\n",
    "temp = num\n",
    "while temp > 0:\n",
    "   digit = temp % 10\n",
    "   sum += digit ** 3\n",
    "   temp //= 10\n",
    "\n",
    "if num == sum:\n",
    "   print(num,\"is an Armstrong number\")\n",
    "else:\n",
    "   print(num,\"is not an Armstrong number\")"
   ]
  },
  {
   "cell_type": "code",
   "execution_count": null,
   "id": "d608c6f0",
   "metadata": {},
   "outputs": [],
   "source": []
  }
 ],
 "metadata": {
  "kernelspec": {
   "display_name": "Python 3 (ipykernel)",
   "language": "python",
   "name": "python3"
  },
  "language_info": {
   "codemirror_mode": {
    "name": "ipython",
    "version": 3
   },
   "file_extension": ".py",
   "mimetype": "text/x-python",
   "name": "python",
   "nbconvert_exporter": "python",
   "pygments_lexer": "ipython3",
   "version": "3.9.13"
  }
 },
 "nbformat": 4,
 "nbformat_minor": 5
}
